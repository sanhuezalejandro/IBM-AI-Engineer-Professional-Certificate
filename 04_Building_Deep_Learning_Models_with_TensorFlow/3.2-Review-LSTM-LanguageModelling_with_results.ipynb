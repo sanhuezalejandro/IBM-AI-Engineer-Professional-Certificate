{
 "cells": [
  {
   "cell_type": "markdown",
   "metadata": {},
   "source": [
    "<img src=\"https://cf-courses-data.s3.us.cloud-object-storage.appdomain.cloud/IBMDeveloperSkillsNetwork-DL0120EN-SkillsNetwork/images/IDSN-logo.png\" width=\"300\" alt=\"cognitiveclass.ai logo\">\n",
    "\n",
    "<h1 align=\"center\"><font size=\"5\">RECURRENT NETWORKS and LSTM IN DEEP LEARNING</font></h1>\n"
   ]
  },
  {
   "cell_type": "markdown",
   "metadata": {},
   "source": [
    "Estimated time needed: **30** minutes\n"
   ]
  },
  {
   "cell_type": "markdown",
   "metadata": {},
   "source": [
    "<h2>Applying Recurrent Neural Networks/LSTM for Language Modeling</h2>\n",
    "Hello and welcome to this part. In this notebook, we will go over the topic of Language Modelling, and create a Recurrent Neural Network model based on the Long Short-Term Memory unit to train and benchmark on the Penn Treebank dataset. By the end of this notebook, you should be able to understand how TensorFlow builds and executes a RNN model for Language Modelling.\n"
   ]
  },
  {
   "cell_type": "markdown",
   "metadata": {},
   "source": [
    "<h2>The Objective</h2>\n",
    "By now, you should have an understanding of how Recurrent Networks work -- a specialized model to process sequential data by keeping track of the \"state\" or context. In this notebook, we go over a TensorFlow code snippet for creating a model focused on <b>Language Modelling</b> -- a very relevant task that is the cornerstone of many different linguistic problems such as <b>Speech Recognition, Machine Translation and Image Captioning</b>. For this, we will be using the Penn Treebank dataset, which is an often-used dataset for benchmarking Language Modelling models.\n"
   ]
  },
  {
   "cell_type": "markdown",
   "metadata": {},
   "source": [
    "\n",
    "<h2>Table of Contents</h2>\n",
    "<ol>\n",
    "    <li><a href=\"#language_modelling\">What exactly is Language Modelling?</a></li>\n",
    "    <li><a href=\"#treebank_dataset\">The Penn Treebank dataset</a></li>\n",
    "    <li><a href=\"#word_embedding\">Word Embedding</a></li>\n",
    "    <li><a href=\"#building_lstm_model\">Building the LSTM model for Language Modeling</a></li>\n",
    "    <li><a href=\"#ltsm\">LTSM</a></li>\n",
    "</ol>\n",
    "<p></p>\n",
    "</div>\n",
    "<br>\n"
   ]
  },
  {
   "cell_type": "markdown",
   "metadata": {},
   "source": [
    "--------\n"
   ]
  },
  {
   "cell_type": "markdown",
   "metadata": {},
   "source": [
    "<a id=\"language_modelling\"></a>\n",
    "<h2>What exactly is Language Modelling?</h2>\n",
    "Language Modelling, to put it simply, <b>is the task of assigning probabilities to sequences of words</b>. This means that, given a context of one or a sequence of words in the language the model was trained on, the model should provide the next most probable words or sequence of words that follows from the given sequence of words the sentence. Language Modelling is one of the most important tasks in Natural Language Processing.\n",
    "\n",
    "<img src=\"https://ibm.box.com/shared/static/1d1i5gub6wljby2vani2vzxp0xsph702.png\" width=\"1080\">\n",
    "<center><i>Example of a sentence being predicted</i></center>\n",
    "<br><br>\n",
    "In this example, one can see the predictions for the next word of a sentence, given the context \"This is an\". As you can see, this boils down to a sequential data analysis task -- you are given a word or a sequence of words (the input data), and, given the context (the state), you need to find out what is the next word (the prediction). This kind of analysis is very important for language-related tasks such as <b>Speech Recognition, Machine Translation, Image Captioning, Text Correction</b> and many other very relevant problems. \n",
    "\n",
    "<img src=\"https://ibm.box.com/shared/static/az39idf9ipfdpc5ugifpgxnydelhyf3i.png\" width=\"1080\">\n",
    "<center><i>The above example is a schema of an RNN in execution</i></center>\n",
    "<br><br>\n",
    "As the above image shows, Recurrent Network models fit this problem like a glove. Alongside LSTM and its capacity to maintain the model's state for over one thousand time steps, we have all the tools we need to undertake this problem. The goal for this notebook is to create a model that can reach <b>low levels of perplexity</b> on our desired dataset.\n",
    "\n",
    "For Language Modelling problems, <b>perplexity</b> is the way to gauge efficiency. Perplexity is simply a measure of how well a probabilistic model is able to predict its sample. A higher-level way to explain this would be saying that <b>low perplexity means a higher degree of trust in the predictions the model makes</b>. Therefore, the lower perplexity is, the better.\n"
   ]
  },
  {
   "cell_type": "markdown",
   "metadata": {},
   "source": [
    "<a id=\"treebank_dataset\"></a>\n",
    "<h2>The Penn Treebank dataset</h2>\n",
    "Historically, datasets big enough for Natural Language Processing are hard to come by. This is in part due to the necessity of the sentences to be broken down and tagged with a certain degree of correctness -- or else the models trained on it won't be able to be correct at all. This means that we need a <b>large amount of data, annotated by or at least corrected by humans</b>. This is, of course, not an easy task at all.\n",
    "\n",
    "The Penn Treebank, or PTB for short, is a dataset maintained by the University of Pennsylvania. It is <i>huge</i> -- there are over <b>four million and eight hundred thousand</b> annotated words in it, all corrected by humans. It is composed of many different sources, from abstracts of Department of Energy papers to texts from the Library of America. Since it is verifiably correct and of such a huge size, the Penn Treebank is commonly used as a benchmark dataset for Language Modelling.\n",
    "\n",
    "The dataset is divided in different kinds of annotations, such as Piece-of-Speech, Syntactic and Semantic skeletons. For this example, we will simply use a sample of clean, non-annotated words (with the exception of one tag --<code>&lt;unk&gt;</code>\n",
    ", which is used for rare words such as uncommon proper nouns) for our model. This means that we just want to predict what the next words would be, not what they mean in context or their classes on a given sentence.\n",
    "\n",
    "<center>Example of text from the dataset we are going to use, <b>ptb.train</b></center>\n",
    "<br><br>\n",
    "\n",
    "<div class=\"alert alert-block alert-info\" style=\"margin-top: 20px\">\n",
    "    <center>the percentage of lung cancer deaths among the workers at the west <code>&lt;unk&gt;</code> mass. paper factory appears to be the highest for any asbestos workers studied in western industrialized countries he said \n",
    " the plant which is owned by <code>&lt;unk&gt;</code> & <code>&lt;unk&gt;</code> co. was under contract with <code>&lt;unk&gt;</code> to make the cigarette filters \n",
    " the finding probably will support those who argue that the U.S. should regulate the class of asbestos including <code>&lt;unk&gt;</code> more <code>&lt;unk&gt;</code> than the common kind of asbestos <code>&lt;unk&gt;</code> found in most schools and other buildings dr. <code>&lt;unk&gt;</code> said</center>\n",
    "</div>\n"
   ]
  },
  {
   "cell_type": "markdown",
   "metadata": {},
   "source": [
    "<a id=\"word_embedding\"></a>\n",
    "<h2>Word Embeddings</h2><br/>\n",
    "\n",
    "For better processing, in this example, we will make use of <a href=\"https://www.tensorflow.org/tutorials/word2vec/?utm_medium=Exinfluencer&utm_source=Exinfluencer&utm_content=000026UJ&utm_term=10006555&utm_id=NA-SkillsNetwork-Channel-SkillsNetworkCoursesIBMDeveloperSkillsNetworkDL0120ENSkillsNetwork954-2023-01-01\"><b>word embeddings</b></a>, which is <b>a way of representing sentence structures or words as n-dimensional vectors (where n is a reasonably high number, such as 200 or 500) of real numbers</b>. Basically, we will assign each word a randomly-initialized vector, and input those into the network to be processed. After a number of iterations, these vectors are expected to assume values that help the network to correctly predict what it needs to -- in our case, the probable next word in the sentence. This is shown to be a very effective task in Natural Language Processing, and is a commonplace practice.\n",
    "<br><br>\n",
    "<font size=\"4\"><strong>\n",
    "$$Vec(\"Example\") = [0.02, 0.00, 0.00, 0.92, 0.30, \\ldots]$$\n",
    "</strong></font>\n",
    "<br>\n",
    "Word Embedding tends to group up similarly used words <i>reasonably</i> close together in the vectorial space. For example, if we use T-SNE (a dimensional reduction visualization algorithm) to flatten the dimensions of our vectors into a 2-dimensional space and plot these words in a 2-dimensional space, we might see something like this:\n",
    "\n",
    "<img src=\"https://ibm.box.com/shared/static/bqhc5dg879gcoabzhxra1w8rkg3od1cu.png\" width=\"800\">\n",
    "<center><i>T-SNE Mockup with clusters marked for easier visualization</i></center>\n",
    "<br><br>\n",
    "As you can see, words that are frequently used together, in place of each other, or in the same places as them tend to be grouped together -- being closer together the higher they are correlated. For example, \"None\" is pretty semantically close to \"Zero\", while a phrase that uses \"Italy\", you could probably also fit \"Germany\" in it, with little damage to the sentence structure. The vectorial \"closeness\" for similar words like this is a great indicator of a well-built model.\n",
    "\n",
    "<hr>\n",
    " \n"
   ]
  },
  {
   "cell_type": "markdown",
   "metadata": {},
   "source": [
    "We need to import the necessary modules for our code. We need <b><code>numpy</code></b> and <b><code>tensorflow</code></b>, obviously. Additionally, we can import directly the <b><code>tensorflow.models.rnn</code></b> model, which includes the function for building RNNs, and <b><code>tensorflow.models.rnn.ptb.reader</code></b> which is the helper module for getting the input data from the dataset we just downloaded.\n",
    "\n",
    "If you want to learn more take a look at https://github.com/tensorflow/models/blob/master/tutorials/rnn/ptb/reader.py\n"
   ]
  },
  {
   "cell_type": "code",
   "execution_count": 1,
   "metadata": {
    "tags": []
   },
   "outputs": [
    {
     "name": "stdout",
     "output_type": "stream",
     "text": [
      "Requirement already satisfied: tensorflow==2.9.0 in /home/jupyterlab/conda/envs/python/lib/python3.7/site-packages (2.9.0)\n",
      "Requirement already satisfied: absl-py>=1.0.0 in /home/jupyterlab/conda/envs/python/lib/python3.7/site-packages (from tensorflow==2.9.0) (1.4.0)\n",
      "Requirement already satisfied: astunparse>=1.6.0 in /home/jupyterlab/conda/envs/python/lib/python3.7/site-packages (from tensorflow==2.9.0) (1.6.3)\n",
      "Requirement already satisfied: flatbuffers<2,>=1.12 in /home/jupyterlab/conda/envs/python/lib/python3.7/site-packages (from tensorflow==2.9.0) (1.12)\n",
      "Requirement already satisfied: gast<=0.4.0,>=0.2.1 in /home/jupyterlab/conda/envs/python/lib/python3.7/site-packages (from tensorflow==2.9.0) (0.4.0)\n",
      "Requirement already satisfied: google-pasta>=0.1.1 in /home/jupyterlab/conda/envs/python/lib/python3.7/site-packages (from tensorflow==2.9.0) (0.2.0)\n",
      "Requirement already satisfied: grpcio<2.0,>=1.24.3 in /home/jupyterlab/conda/envs/python/lib/python3.7/site-packages (from tensorflow==2.9.0) (1.48.1)\n",
      "Requirement already satisfied: h5py>=2.9.0 in /home/jupyterlab/conda/envs/python/lib/python3.7/site-packages (from tensorflow==2.9.0) (3.8.0)\n",
      "Requirement already satisfied: keras<2.10.0,>=2.9.0rc0 in /home/jupyterlab/conda/envs/python/lib/python3.7/site-packages (from tensorflow==2.9.0) (2.9.0)\n",
      "Requirement already satisfied: keras-preprocessing>=1.1.1 in /home/jupyterlab/conda/envs/python/lib/python3.7/site-packages (from tensorflow==2.9.0) (1.1.2)\n",
      "Requirement already satisfied: libclang>=13.0.0 in /home/jupyterlab/conda/envs/python/lib/python3.7/site-packages (from tensorflow==2.9.0) (16.0.6)\n",
      "Requirement already satisfied: numpy>=1.20 in /home/jupyterlab/conda/envs/python/lib/python3.7/site-packages (from tensorflow==2.9.0) (1.21.6)\n",
      "Requirement already satisfied: opt-einsum>=2.3.2 in /home/jupyterlab/conda/envs/python/lib/python3.7/site-packages (from tensorflow==2.9.0) (3.3.0)\n",
      "Requirement already satisfied: packaging in /home/jupyterlab/conda/envs/python/lib/python3.7/site-packages (from tensorflow==2.9.0) (23.1)\n",
      "Requirement already satisfied: protobuf>=3.9.2 in /home/jupyterlab/conda/envs/python/lib/python3.7/site-packages (from tensorflow==2.9.0) (3.19.6)\n",
      "Requirement already satisfied: setuptools in /home/jupyterlab/conda/envs/python/lib/python3.7/site-packages (from tensorflow==2.9.0) (67.7.2)\n",
      "Requirement already satisfied: six>=1.12.0 in /home/jupyterlab/conda/envs/python/lib/python3.7/site-packages (from tensorflow==2.9.0) (1.16.0)\n",
      "Requirement already satisfied: tensorboard<2.10,>=2.9 in /home/jupyterlab/conda/envs/python/lib/python3.7/site-packages (from tensorflow==2.9.0) (2.9.1)\n",
      "Requirement already satisfied: tensorflow-io-gcs-filesystem>=0.23.1 in /home/jupyterlab/conda/envs/python/lib/python3.7/site-packages (from tensorflow==2.9.0) (0.34.0)\n",
      "Requirement already satisfied: tensorflow-estimator<2.10.0,>=2.9.0rc0 in /home/jupyterlab/conda/envs/python/lib/python3.7/site-packages (from tensorflow==2.9.0) (2.9.0)\n",
      "Requirement already satisfied: termcolor>=1.1.0 in /home/jupyterlab/conda/envs/python/lib/python3.7/site-packages (from tensorflow==2.9.0) (2.3.0)\n",
      "Requirement already satisfied: typing-extensions>=3.6.6 in /home/jupyterlab/conda/envs/python/lib/python3.7/site-packages (from tensorflow==2.9.0) (4.5.0)\n",
      "Requirement already satisfied: wrapt>=1.11.0 in /home/jupyterlab/conda/envs/python/lib/python3.7/site-packages (from tensorflow==2.9.0) (1.14.1)\n",
      "Requirement already satisfied: wheel<1.0,>=0.23.0 in /home/jupyterlab/conda/envs/python/lib/python3.7/site-packages (from astunparse>=1.6.0->tensorflow==2.9.0) (0.40.0)\n",
      "Requirement already satisfied: google-auth<3,>=1.6.3 in /home/jupyterlab/conda/envs/python/lib/python3.7/site-packages (from tensorboard<2.10,>=2.9->tensorflow==2.9.0) (2.26.1)\n",
      "Requirement already satisfied: google-auth-oauthlib<0.5,>=0.4.1 in /home/jupyterlab/conda/envs/python/lib/python3.7/site-packages (from tensorboard<2.10,>=2.9->tensorflow==2.9.0) (0.4.6)\n",
      "Requirement already satisfied: markdown>=2.6.8 in /home/jupyterlab/conda/envs/python/lib/python3.7/site-packages (from tensorboard<2.10,>=2.9->tensorflow==2.9.0) (3.4.3)\n",
      "Requirement already satisfied: requests<3,>=2.21.0 in /home/jupyterlab/conda/envs/python/lib/python3.7/site-packages (from tensorboard<2.10,>=2.9->tensorflow==2.9.0) (2.29.0)\n",
      "Requirement already satisfied: tensorboard-data-server<0.7.0,>=0.6.0 in /home/jupyterlab/conda/envs/python/lib/python3.7/site-packages (from tensorboard<2.10,>=2.9->tensorflow==2.9.0) (0.6.1)\n",
      "Requirement already satisfied: tensorboard-plugin-wit>=1.6.0 in /home/jupyterlab/conda/envs/python/lib/python3.7/site-packages (from tensorboard<2.10,>=2.9->tensorflow==2.9.0) (1.8.1)\n",
      "Requirement already satisfied: werkzeug>=1.0.1 in /home/jupyterlab/conda/envs/python/lib/python3.7/site-packages (from tensorboard<2.10,>=2.9->tensorflow==2.9.0) (2.2.3)\n",
      "Requirement already satisfied: cachetools<6.0,>=2.0.0 in /home/jupyterlab/conda/envs/python/lib/python3.7/site-packages (from google-auth<3,>=1.6.3->tensorboard<2.10,>=2.9->tensorflow==2.9.0) (5.3.2)\n",
      "Requirement already satisfied: pyasn1-modules>=0.2.1 in /home/jupyterlab/conda/envs/python/lib/python3.7/site-packages (from google-auth<3,>=1.6.3->tensorboard<2.10,>=2.9->tensorflow==2.9.0) (0.3.0)\n",
      "Requirement already satisfied: rsa<5,>=3.1.4 in /home/jupyterlab/conda/envs/python/lib/python3.7/site-packages (from google-auth<3,>=1.6.3->tensorboard<2.10,>=2.9->tensorflow==2.9.0) (4.9)\n",
      "Requirement already satisfied: requests-oauthlib>=0.7.0 in /home/jupyterlab/conda/envs/python/lib/python3.7/site-packages (from google-auth-oauthlib<0.5,>=0.4.1->tensorboard<2.10,>=2.9->tensorflow==2.9.0) (1.3.1)\n",
      "Requirement already satisfied: importlib-metadata>=4.4 in /home/jupyterlab/conda/envs/python/lib/python3.7/site-packages (from markdown>=2.6.8->tensorboard<2.10,>=2.9->tensorflow==2.9.0) (4.11.4)\n",
      "Requirement already satisfied: charset-normalizer<4,>=2 in /home/jupyterlab/conda/envs/python/lib/python3.7/site-packages (from requests<3,>=2.21.0->tensorboard<2.10,>=2.9->tensorflow==2.9.0) (3.1.0)\n",
      "Requirement already satisfied: idna<4,>=2.5 in /home/jupyterlab/conda/envs/python/lib/python3.7/site-packages (from requests<3,>=2.21.0->tensorboard<2.10,>=2.9->tensorflow==2.9.0) (3.4)\n",
      "Requirement already satisfied: urllib3<1.27,>=1.21.1 in /home/jupyterlab/conda/envs/python/lib/python3.7/site-packages (from requests<3,>=2.21.0->tensorboard<2.10,>=2.9->tensorflow==2.9.0) (1.26.15)\n",
      "Requirement already satisfied: certifi>=2017.4.17 in /home/jupyterlab/conda/envs/python/lib/python3.7/site-packages (from requests<3,>=2.21.0->tensorboard<2.10,>=2.9->tensorflow==2.9.0) (2023.5.7)\n",
      "Requirement already satisfied: MarkupSafe>=2.1.1 in /home/jupyterlab/conda/envs/python/lib/python3.7/site-packages (from werkzeug>=1.0.1->tensorboard<2.10,>=2.9->tensorflow==2.9.0) (2.1.1)\n",
      "Requirement already satisfied: zipp>=0.5 in /home/jupyterlab/conda/envs/python/lib/python3.7/site-packages (from importlib-metadata>=4.4->markdown>=2.6.8->tensorboard<2.10,>=2.9->tensorflow==2.9.0) (3.15.0)\n",
      "Requirement already satisfied: pyasn1<0.6.0,>=0.4.6 in /home/jupyterlab/conda/envs/python/lib/python3.7/site-packages (from pyasn1-modules>=0.2.1->google-auth<3,>=1.6.3->tensorboard<2.10,>=2.9->tensorflow==2.9.0) (0.5.0)\n",
      "Requirement already satisfied: oauthlib>=3.0.0 in /home/jupyterlab/conda/envs/python/lib/python3.7/site-packages (from requests-oauthlib>=0.7.0->google-auth-oauthlib<0.5,>=0.4.1->tensorboard<2.10,>=2.9->tensorflow==2.9.0) (3.2.2)\n",
      "Collecting numpy==1.21.4\n",
      "  Downloading numpy-1.21.4-cp37-cp37m-manylinux_2_12_x86_64.manylinux2010_x86_64.whl (15.7 MB)\n",
      "\u001b[2K     \u001b[90m━━━━━━━━━━━━━━━━━━━━━━━━━━━━━━━━━━━━━━━━\u001b[0m \u001b[32m15.7/15.7 MB\u001b[0m \u001b[31m65.6 MB/s\u001b[0m eta \u001b[36m0:00:00\u001b[0m00:01\u001b[0m00:01\u001b[0m\n",
      "\u001b[?25hInstalling collected packages: numpy\n",
      "  Attempting uninstall: numpy\n",
      "    Found existing installation: numpy 1.21.6\n",
      "    Uninstalling numpy-1.21.6:\n",
      "      Successfully uninstalled numpy-1.21.6\n",
      "Successfully installed numpy-1.21.4\n"
     ]
    }
   ],
   "source": [
    "!pip install tensorflow==2.9.0\n",
    "!pip install numpy==1.21.4\n"
   ]
  },
  {
   "cell_type": "code",
   "execution_count": 3,
   "metadata": {
    "tags": []
   },
   "outputs": [],
   "source": [
    "import time\n",
    "import numpy as np\n",
    "import tensorflow as tf\n",
    "if not tf.__version__ == '2.9.0':\n",
    "    print(tf.__version__)\n",
    "    raise ValueError('please upgrade to TensorFlow 2.9.0, or restart your Kernel (Kernel->Restart & Clear Output)')"
   ]
  },
  {
   "cell_type": "markdown",
   "metadata": {},
   "source": [
    "IMPORTANT! => Please restart the kernel by clicking on \"Kernel\"->\"Restart and Clear Outout\" and wait until all output disapears. Then your changes are beeing picked up\n"
   ]
  },
  {
   "cell_type": "code",
   "execution_count": null,
   "metadata": {},
   "outputs": [],
   "source": [
    "#!mkdir data\n",
    "#!mkdir data/ptb\n",
    "#!wget -q -O data/ptb/reader.py https://cf-courses-data.s3.us.cloud-object-storage.appdomain.cloud/IBMDeveloperSkillsNetwork-DL0120EN-SkillsNetwork/labs/Week3/data/ptb/reader.py\n",
    "#!cp data/ptb/reader.py .\n",
    "\n"
   ]
  },
  {
   "cell_type": "code",
   "execution_count": 4,
   "metadata": {
    "tags": []
   },
   "outputs": [],
   "source": [
    "# Copyright 2015 The TensorFlow Authors. All Rights Reserved.\n",
    "#\n",
    "# Licensed under the Apache License, Version 2.0 (the \"License\");\n",
    "# you may not use this file except in compliance with the License.\n",
    "# You may obtain a copy of the License at\n",
    "#\n",
    "#     http://www.apache.org/licenses/LICENSE-2.0\n",
    "#\n",
    "# Unless required by applicable law or agreed to in writing, software\n",
    "# distributed under the License is distributed on an \"AS IS\" BASIS,\n",
    "# WITHOUT WARRANTIES OR CONDITIONS OF ANY KIND, either express or implied.\n",
    "# See the License for the specific language governing permissions and\n",
    "# limitations under the License.\n",
    "# ==============================================================================\n",
    "\n",
    "\n",
    "\"\"\"Utilities for parsing PTB text files.\"\"\"\n",
    "from __future__ import absolute_import\n",
    "from __future__ import division\n",
    "from __future__ import print_function\n",
    "\n",
    "import collections\n",
    "import os\n",
    "\n",
    "import numpy as np\n",
    "import tensorflow as tf\n",
    "\n",
    "\n",
    "def _read_words(filename):\n",
    "  with tf.io.gfile.GFile(filename, \"r\") as f:\n",
    "    return f.read().replace(\"\\n\", \"<eos>\").split()\n",
    "\n",
    "\n",
    "def _build_vocab(filename):\n",
    "  data = _read_words(filename)\n",
    "\n",
    "  counter = collections.Counter(data)\n",
    "  count_pairs = sorted(counter.items(), key=lambda x: (-x[1], x[0]))\n",
    "\n",
    "  words, _ = list(zip(*count_pairs))\n",
    "  word_to_id = dict(zip(words, range(len(words))))\n",
    "\n",
    "  return word_to_id\n",
    "\n",
    "\n",
    "def _file_to_word_ids(filename, word_to_id):\n",
    "  data = _read_words(filename)\n",
    "  return [word_to_id[word] for word in data if word in word_to_id]\n",
    "\n",
    "\n",
    "def ptb_raw_data(data_path=None):\n",
    "  \"\"\"Load PTB raw data from data directory \"data_path\".\n",
    "\n",
    "  Reads PTB text files, converts strings to integer ids,\n",
    "  and performs mini-batching of the inputs.\n",
    "\n",
    "  The PTB dataset comes from Tomas Mikolov's webpage:\n",
    "\n",
    "  http://www.fit.vutbr.cz/~imikolov/rnnlm/simple-examples.tgz\n",
    "\n",
    "  Args:\n",
    "    data_path: string path to the directory where simple-examples.tgz has\n",
    "      been extracted.\n",
    "\n",
    "  Returns:\n",
    "    tuple (train_data, valid_data, test_data, vocabulary)\n",
    "    where each of the data objects can be passed to PTBIterator.\n",
    "  \"\"\"\n",
    "\n",
    "  train_path = os.path.join(data_path, \"ptb.train.txt\")\n",
    "  valid_path = os.path.join(data_path, \"ptb.valid.txt\")\n",
    "  test_path = os.path.join(data_path, \"ptb.test.txt\")\n",
    "\n",
    "  word_to_id = _build_vocab(train_path)\n",
    "  train_data = _file_to_word_ids(train_path, word_to_id)\n",
    "  valid_data = _file_to_word_ids(valid_path, word_to_id)\n",
    "  test_data = _file_to_word_ids(test_path, word_to_id)\n",
    "  vocabulary = len(word_to_id)\n",
    "  return train_data, valid_data, test_data, vocabulary, word_to_id\n",
    "\n",
    "\n",
    "def ptb_iterator(raw_data, batch_size, num_steps):\n",
    "  \"\"\"Iterate on the raw PTB data.\n",
    "\n",
    "  This generates batch_size pointers into the raw PTB data, and allows\n",
    "  minibatch iteration along these pointers.\n",
    "\n",
    "  Args:\n",
    "    raw_data: one of the raw data outputs from ptb_raw_data.\n",
    "    batch_size: int, the batch size.\n",
    "    num_steps: int, the number of unrolls.\n",
    "\n",
    "  Yields:\n",
    "    Pairs of the batched data, each a matrix of shape [batch_size, num_steps].\n",
    "    The second element of the tuple is the same data time-shifted to the\n",
    "    right by one.\n",
    "\n",
    "  Raises:\n",
    "    ValueError: if batch_size or num_steps are too high.\n",
    "  \"\"\"\n",
    "  raw_data = np.array(raw_data, dtype=np.int32)\n",
    "\n",
    "  data_len = len(raw_data)\n",
    "  batch_len = data_len // batch_size\n",
    "  data = np.zeros([batch_size, batch_len], dtype=np.int32)\n",
    "  for i in range(batch_size):\n",
    "    data[i] = raw_data[batch_len * i:batch_len * (i + 1)]\n",
    "\n",
    "  epoch_size = (batch_len - 1) // num_steps\n",
    "\n",
    "  if epoch_size == 0:\n",
    "    raise ValueError(\"epoch_size == 0, decrease batch_size or num_steps\")\n",
    "\n",
    "  for i in range(epoch_size):\n",
    "    x = data[:, i*num_steps:(i+1)*num_steps]\n",
    "    y = data[:, i*num_steps+1:(i+1)*num_steps+1]\n",
    "    yield (x, y)"
   ]
  },
  {
   "cell_type": "markdown",
   "metadata": {},
   "source": [
    "<a id=\"building_lstm_model\"></a>\n",
    "<h2>Building the LSTM model for Language Modeling</h2>\n",
    "Now that we know exactly what we are doing, we can start building our model using TensorFlow. The very first thing we need to do is download and extract the <code>simple-examples</code> dataset, which can be done by executing the code cell below.\n"
   ]
  },
  {
   "cell_type": "code",
   "execution_count": 5,
   "metadata": {
    "tags": []
   },
   "outputs": [
    {
     "name": "stdout",
     "output_type": "stream",
     "text": [
      "--2024-01-09 04:26:10--  http://www.fit.vutbr.cz/~imikolov/rnnlm/simple-examples.tgz\n",
      "Resolving www.fit.vutbr.cz (www.fit.vutbr.cz)... 147.229.9.23, 147.229.9.23\n",
      "Connecting to www.fit.vutbr.cz (www.fit.vutbr.cz)|147.229.9.23|:80... connected.\n",
      "HTTP request sent, awaiting response... 200 OK\n",
      "Length: 34869662 (33M) [application/x-gtar]\n",
      "Saving to: ‘simple-examples.tgz’\n",
      "\n",
      "simple-examples.tgz 100%[===================>]  33.25M  8.93MB/s    in 3.9s    \n",
      "\n",
      "2024-01-09 04:26:15 (8.51 MB/s) - ‘simple-examples.tgz’ saved [34869662/34869662]\n",
      "\n",
      "tar: data: Cannot open: No such file or directory\n",
      "tar: Error is not recoverable: exiting now\n"
     ]
    }
   ],
   "source": [
    "!wget http://www.fit.vutbr.cz/~imikolov/rnnlm/simple-examples.tgz \n",
    "!tar xzf simple-examples.tgz -C data/"
   ]
  },
  {
   "cell_type": "markdown",
   "metadata": {},
   "source": [
    "Additionally, for the sake of making it easy to play around with the model's hyperparameters, we can declare them beforehand. Feel free to change these -- you will see a difference in performance each time you change those!  \n"
   ]
  },
  {
   "cell_type": "code",
   "execution_count": 14,
   "metadata": {
    "tags": []
   },
   "outputs": [],
   "source": [
    "#Initial weight scale\n",
    "init_scale = 0.1\n",
    "#Initial learning rate\n",
    "learning_rate = 1.0\n",
    "#Maximum permissible norm for the gradient (For gradient clipping -- another measure against Exploding Gradients)\n",
    "max_grad_norm = 5\n",
    "#The number of layers in our model\n",
    "num_layers = 2\n",
    "#The total number of recurrence steps, also known as the number of layers when our RNN is \"unfolded\"\n",
    "num_steps = 20\n",
    "#The number of processing units (neurons) in the hidden layers\n",
    "hidden_size_l1 = 256\n",
    "hidden_size_l2 = 128\n",
    "#The maximum number of epochs trained with the initial learning rate\n",
    "max_epoch_decay_lr = 4\n",
    "#The total number of epochs in training\n",
    "max_epoch = 15\n",
    "#The probability for keeping data in the Dropout Layer (This is an optimization, but is outside our scope for this notebook!)\n",
    "#At 1, we ignore the Dropout Layer wrapping.\n",
    "keep_prob = 1\n",
    "#The decay for the learning rate\n",
    "decay = 0.5\n",
    "#The size for each batch of data\n",
    "batch_size = 30\n",
    "#The size of our vocabulary\n",
    "vocab_size = 10000\n",
    "embeding_vector_size= 200\n",
    "#Training flag to separate training from testing\n",
    "is_training = 1\n",
    "#Data directory for our dataset\n",
    "data_dir = \"data/simple-examples/data/\""
   ]
  },
  {
   "cell_type": "markdown",
   "metadata": {},
   "source": [
    "Some clarifications for LSTM architecture based on the arguments:\n",
    "\n",
    "Network structure:\n",
    "<ul>\n",
    "    <li>In this network, the number of LSTM cells are 2. To give the model more expressive power, we can add multiple layers of LSTMs to process the data. The output of the first layer will become the input of the second and so on.\n",
    "    </li>\n",
    "    <li>The recurrence steps is 20, that is, when our RNN is \"Unfolded\", the recurrence step is 20.</li>   \n",
    "    <li>the structure is like:\n",
    "        <ul>\n",
    "            <li>200 input units -> [200x200] Weight -> 200 Hidden units (first layer) -> [200x200] Weight matrix  -> 200 Hidden units (second layer) ->  [200] weight Matrix -> 200 unit output</li>\n",
    "        </ul>\n",
    "    </li>\n",
    "</ul>\n",
    "<br>\n",
    "\n",
    "Input layer: \n",
    "<ul>\n",
    "    <li>The network has 200 input units.</li>\n",
    "    <li>Suppose each word is represented by an embedding vector of dimensionality e=200. The input layer of each cell will have 200 linear units. These e=200 linear units are connected to each of the h=200 LSTM units in the hidden layer (assuming there is only one hidden layer, though our case has 2 layers).\n",
    "    </li>\n",
    "    <li>The input shape is [batch_size, num_steps], that is [30x20]. It will turn into [30x20x200] after embedding, and then 20x[30x200]\n",
    "    </li>\n",
    "</ul>\n",
    "<br>\n",
    "\n",
    "Hidden layer:\n",
    "<ul>\n",
    "    <li>Each LSTM has 200 hidden units which is equivalent to the dimensionality of the embedding words and output.</li>\n",
    "</ul>\n",
    "<br>\n"
   ]
  },
  {
   "cell_type": "markdown",
   "metadata": {},
   "source": [
    "There is a lot to be done and a ton of information to process at the same time, so go over this code slowly. It may seem complex at first, but if you try to apply what you just learned about language modelling to the code you see, you should be able to understand it.\n",
    "\n",
    "This code is adapted from the <a href=\"https://github.com/tensorflow/models\">PTBModel</a> example bundled with the TensorFlow source code.\n",
    "\n",
    "\n",
    "<h3>Training data</h3>\n",
    "The story starts from data:\n",
    "<ul>\n",
    "    <li>Train data is a list of words, of size 929589, represented by numbers, e.g. [9971, 9972, 9974, 9975,...]</li>\n",
    "    <li>We read data as mini-batch of size b=30. Assume the size of each sentence is 20 words (num_steps = 20). Then it will take $$floor(\\frac{N}{b \\times h})+1=1548$$ iterations for the learner to go through all sentences once. Where N is the size of the list of words, b is batch size, and h is size of each sentence. So, the number of iterators is 1548\n",
    "    </li>\n",
    "    <li>Each batch data is read from train dataset of size 600, and shape of [30x20]</li>\n",
    "</ul>\n"
   ]
  },
  {
   "cell_type": "code",
   "execution_count": 17,
   "metadata": {
    "tags": []
   },
   "outputs": [
    {
     "name": "stdout",
     "output_type": "stream",
     "text": [
      "Archivos extraídos: ['simple-examples']\n"
     ]
    }
   ],
   "source": [
    "import tarfile\n",
    "import os\n",
    "\n",
    "# Ruta del archivo comprimido\n",
    "data_dir = \"simple-examples.tgz\"\n",
    "\n",
    "# Directorio de destino para extraer los archivos\n",
    "data_dir_extracted = \"data\"\n",
    "\n",
    "# Crear el directorio de extracción si no existe\n",
    "if not os.path.exists(data_dir_extracted):\n",
    "    os.makedirs(data_dir_extracted)\n",
    "\n",
    "# Extraer el archivo tgz\n",
    "with tarfile.open(data_dir, 'r:gz') as tar:\n",
    "    tar.extractall(data_dir_extracted)\n",
    "\n",
    "# Listar los archivos extraídos\n",
    "extracted_files = os.listdir(data_dir_extracted)\n",
    "print(\"Archivos extraídos:\", extracted_files)\n",
    "\n"
   ]
  },
  {
   "cell_type": "code",
   "execution_count": 18,
   "metadata": {
    "tags": []
   },
   "outputs": [],
   "source": [
    "#Data directory for our dataset\n",
    "data_dir = \"data/simple-examples/data/\""
   ]
  },
  {
   "cell_type": "code",
   "execution_count": 19,
   "metadata": {
    "tags": []
   },
   "outputs": [],
   "source": [
    "# Reads the data and separates it into training data, validation data and testing data\n",
    "raw_data = ptb_raw_data(data_dir)\n",
    "train_data, valid_data, test_data, vocab, word_to_id = raw_data"
   ]
  },
  {
   "cell_type": "code",
   "execution_count": 20,
   "metadata": {
    "tags": []
   },
   "outputs": [
    {
     "data": {
      "text/plain": [
       "929589"
      ]
     },
     "execution_count": 20,
     "metadata": {},
     "output_type": "execute_result"
    }
   ],
   "source": [
    "len(train_data)"
   ]
  },
  {
   "cell_type": "code",
   "execution_count": 21,
   "metadata": {
    "tags": []
   },
   "outputs": [
    {
     "name": "stdout",
     "output_type": "stream",
     "text": [
      "['aer', 'banknote', 'berlitz', 'calloway', 'centrust', 'cluett', 'fromstein', 'gitano', 'guterman', 'hydro-quebec', 'ipo', 'kia', 'memotec', 'mlx', 'nahb', 'punts', 'rake', 'regatta', 'rubens', 'sim', 'snack-food', 'ssangyong', 'swapo', 'wachter', '<eos>', 'pierre', '<unk>', 'N', 'years', 'old', 'will', 'join', 'the', 'board', 'as', 'a', 'nonexecutive', 'director', 'nov.', 'N', '<eos>', 'mr.', '<unk>', 'is', 'chairman', 'of', '<unk>', 'n.v.', 'the', 'dutch', 'publishing', 'group', '<eos>', 'rudolph', '<unk>', 'N', 'years', 'old', 'and', 'former', 'chairman', 'of', 'consolidated', 'gold', 'fields', 'plc', 'was', 'named', 'a', 'nonexecutive', 'director', 'of', 'this', 'british', 'industrial', 'conglomerate', '<eos>', 'a', 'form', 'of', 'asbestos', 'once', 'used', 'to', 'make', 'kent', 'cigarette', 'filters', 'has', 'caused', 'a', 'high', 'percentage', 'of', 'cancer', 'deaths', 'among', 'a', 'group', 'of']\n"
     ]
    }
   ],
   "source": [
    "def id_to_word(id_list):\n",
    "    line = []\n",
    "    for w in id_list:\n",
    "        for word, wid in word_to_id.items():\n",
    "            if wid == w:\n",
    "                line.append(word)\n",
    "    return line            \n",
    "                \n",
    "\n",
    "print(id_to_word(train_data[0:100]))"
   ]
  },
  {
   "cell_type": "markdown",
   "metadata": {},
   "source": [
    "Lets just read one mini-batch now and feed our network:\n"
   ]
  },
  {
   "cell_type": "code",
   "execution_count": 22,
   "metadata": {
    "tags": []
   },
   "outputs": [],
   "source": [
    "itera = ptb_iterator(train_data, batch_size, num_steps)\n",
    "first_touple = itera.__next__()\n",
    "_input_data = first_touple[0]\n",
    "_targets = first_touple[1]"
   ]
  },
  {
   "cell_type": "code",
   "execution_count": 23,
   "metadata": {
    "tags": []
   },
   "outputs": [
    {
     "data": {
      "text/plain": [
       "(30, 20)"
      ]
     },
     "execution_count": 23,
     "metadata": {},
     "output_type": "execute_result"
    }
   ],
   "source": [
    "_input_data.shape"
   ]
  },
  {
   "cell_type": "code",
   "execution_count": 24,
   "metadata": {
    "tags": []
   },
   "outputs": [
    {
     "data": {
      "text/plain": [
       "(30, 20)"
      ]
     },
     "execution_count": 24,
     "metadata": {},
     "output_type": "execute_result"
    }
   ],
   "source": [
    "_targets.shape"
   ]
  },
  {
   "cell_type": "markdown",
   "metadata": {},
   "source": [
    "Lets look at 3 sentences of our input x:\n"
   ]
  },
  {
   "cell_type": "code",
   "execution_count": 25,
   "metadata": {
    "tags": []
   },
   "outputs": [
    {
     "data": {
      "text/plain": [
       "array([[9970, 9971, 9972, 9974, 9975, 9976, 9980, 9981, 9982, 9983, 9984,\n",
       "        9986, 9987, 9988, 9989, 9991, 9992, 9993, 9994, 9995],\n",
       "       [2654,    6,  334, 2886,    4,    1,  233,  711,  834,   11,  130,\n",
       "         123,    7,  514,    2,   63,   10,  514,    8,  605],\n",
       "       [   0, 1071,    4,    0,  185,   24,  368,   20,   31, 3109,  954,\n",
       "          12,    3,   21,    2, 2915,    2,   12,    3,   21]],\n",
       "      dtype=int32)"
      ]
     },
     "execution_count": 25,
     "metadata": {},
     "output_type": "execute_result"
    }
   ],
   "source": [
    "_input_data[0:3]"
   ]
  },
  {
   "cell_type": "code",
   "execution_count": 26,
   "metadata": {
    "tags": []
   },
   "outputs": [
    {
     "name": "stdout",
     "output_type": "stream",
     "text": [
      "['aer', 'banknote', 'berlitz', 'calloway', 'centrust', 'cluett', 'fromstein', 'gitano', 'guterman', 'hydro-quebec', 'ipo', 'kia', 'memotec', 'mlx', 'nahb', 'punts', 'rake', 'regatta', 'rubens', 'sim']\n"
     ]
    }
   ],
   "source": [
    "print(id_to_word(_input_data[0,:]))"
   ]
  },
  {
   "cell_type": "markdown",
   "metadata": {},
   "source": [
    "<h3>Embeddings</h3>\n",
    "We have to convert the words in our dataset to vectors of numbers. The traditional approach is to use one-hot encoding method that is usually used for converting categorical values to numerical values. However, One-hot encoded vectors are high-dimensional, sparse and in a big dataset, computationally inefficient. So, we use word2vec approach. It is, in fact, a layer in our LSTM network, where the word IDs will be represented as a dense representation before feeding to the LSTM. \n",
    "\n",
    "The embedded vectors also get updated during the training process of the deep neural network.\n",
    "We create the embeddings for our input data. <b>embedding_vocab</b> is matrix of [10000x200] for all 10000 unique words.\n"
   ]
  },
  {
   "cell_type": "markdown",
   "metadata": {},
   "source": [
    "<b>embedding_lookup()</b> finds the embedded values for our batch of 30x20 words. It  goes to each row of <code>input_data</code>, and for each word in the row/sentence, finds the correspond vector in <code>embedding_dic<code>. <br>\n",
    "It creates a [30x20x200] tensor, so, the first element of <b>inputs</b> (the first sentence), is a matrix of 20x200, which each row of it, is vector representing a word in the sentence.\n"
   ]
  },
  {
   "cell_type": "code",
   "execution_count": 27,
   "metadata": {
    "tags": []
   },
   "outputs": [],
   "source": [
    "embedding_layer = tf.keras.layers.Embedding(vocab_size, embeding_vector_size,batch_input_shape=(batch_size, num_steps),trainable=True,name=\"embedding_vocab\")  "
   ]
  },
  {
   "cell_type": "code",
   "execution_count": 28,
   "metadata": {
    "tags": []
   },
   "outputs": [
    {
     "name": "stderr",
     "output_type": "stream",
     "text": [
      "2024-01-09 04:42:36.492358: W tensorflow/stream_executor/platform/default/dso_loader.cc:64] Could not load dynamic library 'libcuda.so.1'; dlerror: libcuda.so.1: cannot open shared object file: No such file or directory\n",
      "2024-01-09 04:42:36.492425: W tensorflow/stream_executor/cuda/cuda_driver.cc:269] failed call to cuInit: UNKNOWN ERROR (303)\n",
      "2024-01-09 04:42:36.492459: I tensorflow/stream_executor/cuda/cuda_diagnostics.cc:156] kernel driver does not appear to be running on this host (jupyterlab-sanhuezaleja): /proc/driver/nvidia/version does not exist\n",
      "2024-01-09 04:42:36.493138: I tensorflow/core/platform/cpu_feature_guard.cc:193] This TensorFlow binary is optimized with oneAPI Deep Neural Network Library (oneDNN) to use the following CPU instructions in performance-critical operations:  AVX2 AVX512F AVX512_VNNI FMA\n",
      "To enable them in other operations, rebuild TensorFlow with the appropriate compiler flags.\n"
     ]
    },
    {
     "data": {
      "text/plain": [
       "<tf.Tensor: shape=(30, 20, 200), dtype=float32, numpy=\n",
       "array([[[-2.70219892e-03, -1.61869042e-02, -4.30027246e-02, ...,\n",
       "          1.25406273e-02,  3.63256447e-02,  3.54934484e-04],\n",
       "        [ 2.90277265e-02, -1.86234936e-02, -3.35419551e-02, ...,\n",
       "         -2.04824805e-02, -4.10294160e-02, -1.23430043e-04],\n",
       "        [-1.80675872e-02, -4.34503667e-02,  2.22594626e-02, ...,\n",
       "          3.85633744e-02, -2.62880325e-03, -1.03655830e-02],\n",
       "        ...,\n",
       "        [-1.97952986e-03,  3.22535746e-02, -1.35227926e-02, ...,\n",
       "          2.52555683e-03,  1.65438317e-02, -1.88078173e-02],\n",
       "        [ 9.63054597e-04,  4.96531017e-02, -3.10728438e-02, ...,\n",
       "         -6.02810457e-03, -4.47572246e-02, -7.92600214e-04],\n",
       "        [-2.42920276e-02,  4.23288681e-02, -2.27078442e-02, ...,\n",
       "          2.27477439e-02,  1.79142393e-02,  2.29253881e-02]],\n",
       "\n",
       "       [[ 4.72715609e-02,  7.77741522e-03,  1.85316466e-02, ...,\n",
       "          1.42800808e-03, -3.41792703e-02,  2.14363970e-02],\n",
       "        [-3.98242958e-02,  4.16117907e-03, -1.80736296e-02, ...,\n",
       "          4.30477373e-02, -1.93743948e-02,  4.72271927e-02],\n",
       "        [ 1.75183155e-02, -3.33849937e-02, -2.29843855e-02, ...,\n",
       "         -2.05510985e-02, -3.27922590e-02,  1.87315084e-02],\n",
       "        ...,\n",
       "        [-1.99049115e-02,  5.82934543e-03, -1.11296065e-02, ...,\n",
       "          5.32184914e-03, -2.31206417e-02,  3.89232300e-02],\n",
       "        [ 1.38567798e-02,  3.70810963e-02,  3.79394181e-02, ...,\n",
       "         -1.31762139e-02,  4.80007641e-02, -2.46474277e-02],\n",
       "        [-1.34904496e-02,  1.15528218e-02,  2.20232867e-02, ...,\n",
       "         -3.67907174e-02, -3.15379985e-02,  1.12995990e-02]],\n",
       "\n",
       "       [[ 1.12170354e-02, -2.00440772e-02, -3.83508801e-02, ...,\n",
       "          8.95746052e-05, -3.42382118e-03, -3.49789150e-02],\n",
       "        [-6.32451847e-03, -2.76319385e-02,  1.98614337e-02, ...,\n",
       "         -2.37549674e-02, -2.26895809e-02, -3.12131885e-02],\n",
       "        [ 2.27174647e-02,  2.41598226e-02, -2.34383829e-02, ...,\n",
       "          4.96491529e-02, -2.26038694e-02, -1.72914378e-02],\n",
       "        ...,\n",
       "        [-7.16606528e-03, -2.43471619e-02, -7.06955045e-03, ...,\n",
       "          1.77746676e-02, -8.40320438e-03,  1.94164626e-02],\n",
       "        [ 2.45683268e-03,  2.68923379e-02, -3.88396494e-02, ...,\n",
       "         -1.43540278e-02,  1.31646432e-02,  3.36044915e-02],\n",
       "        [-4.13568243e-02, -5.76353073e-03, -3.43242511e-02, ...,\n",
       "          4.46415208e-02,  4.26048376e-02,  3.86513732e-02]],\n",
       "\n",
       "       ...,\n",
       "\n",
       "       [[ 3.43197696e-02, -1.94991585e-02,  1.89692415e-02, ...,\n",
       "         -4.29521799e-02,  4.16374467e-02,  1.37468614e-02],\n",
       "        [ 2.80396976e-02,  2.53039487e-02,  4.95032780e-02, ...,\n",
       "          1.57336146e-03,  2.09196657e-03,  5.74713945e-03],\n",
       "        [-4.18836586e-02, -2.76320577e-02, -3.30647081e-03, ...,\n",
       "          4.40567993e-02, -2.93005630e-03, -3.65111977e-03],\n",
       "        ...,\n",
       "        [-3.00066005e-02, -1.22257955e-02,  4.08510007e-02, ...,\n",
       "         -2.00757515e-02, -4.22357433e-02, -1.60650164e-03],\n",
       "        [ 4.37037684e-02,  9.83516127e-03, -1.74896121e-02, ...,\n",
       "         -4.05532494e-02, -2.87664663e-02, -1.44226924e-02],\n",
       "        [-4.58325855e-02,  3.56746949e-02, -2.55323946e-04, ...,\n",
       "         -2.57984400e-02, -2.86933035e-03, -4.94749434e-02]],\n",
       "\n",
       "       [[ 3.04333307e-02, -1.82017684e-05, -1.25473961e-02, ...,\n",
       "         -2.79651638e-02, -1.45786628e-02, -2.16830503e-02],\n",
       "        [ 3.64518277e-02,  1.55107714e-02, -2.23515630e-02, ...,\n",
       "          1.65125988e-02,  1.92721747e-02,  3.58296745e-02],\n",
       "        [ 2.27174647e-02,  2.41598226e-02, -2.34383829e-02, ...,\n",
       "          4.96491529e-02, -2.26038694e-02, -1.72914378e-02],\n",
       "        ...,\n",
       "        [ 2.29653157e-02,  1.83314085e-03,  3.28999870e-02, ...,\n",
       "          3.85608412e-02,  3.13780047e-02, -2.55224947e-02],\n",
       "        [-3.98242958e-02,  4.16117907e-03, -1.80736296e-02, ...,\n",
       "          4.30477373e-02, -1.93743948e-02,  4.72271927e-02],\n",
       "        [-4.85743657e-02,  1.68663599e-02,  2.87513770e-02, ...,\n",
       "          6.65166229e-03, -2.55874749e-02, -1.65114291e-02]],\n",
       "\n",
       "       [[-4.56478447e-03,  3.36665995e-02,  1.23436376e-03, ...,\n",
       "          1.14974268e-02, -5.76280057e-04, -1.24116652e-02],\n",
       "        [-5.75570017e-03, -4.58784699e-02,  2.03649662e-02, ...,\n",
       "         -3.94861773e-03,  5.47526032e-03,  3.72355320e-02],\n",
       "        [-1.53066516e-02,  1.81875862e-02,  5.24494797e-03, ...,\n",
       "         -1.16362944e-02, -1.21434815e-02, -1.63661838e-02],\n",
       "        ...,\n",
       "        [ 3.29269059e-02,  3.71387340e-02, -3.69212255e-02, ...,\n",
       "         -1.57995932e-02,  3.99809219e-02,  5.22760302e-03],\n",
       "        [ 3.36063616e-02,  3.23687233e-02, -4.09517065e-02, ...,\n",
       "          3.39534394e-02,  4.05865796e-02, -3.95137072e-03],\n",
       "        [ 3.76097448e-02,  3.10012959e-02,  1.78767331e-02, ...,\n",
       "         -3.99185903e-02, -3.27809826e-02, -2.25957483e-03]]],\n",
       "      dtype=float32)>"
      ]
     },
     "execution_count": 28,
     "metadata": {},
     "output_type": "execute_result"
    }
   ],
   "source": [
    "# Define where to get the data for our embeddings from\n",
    "inputs = embedding_layer(_input_data)\n",
    "inputs"
   ]
  },
  {
   "cell_type": "markdown",
   "metadata": {},
   "source": [
    "<h3>Constructing Recurrent Neural Networks</h3>\n"
   ]
  },
  {
   "cell_type": "markdown",
   "metadata": {},
   "source": [
    "In this step, we create the stacked LSTM using <b>tf.keras.layers.StackedRNNCells</b>, which is a 2 layer LSTM network:\n"
   ]
  },
  {
   "cell_type": "code",
   "execution_count": 29,
   "metadata": {
    "tags": []
   },
   "outputs": [],
   "source": [
    "lstm_cell_l1 = tf.keras.layers.LSTMCell(hidden_size_l1)\n",
    "lstm_cell_l2 = tf.keras.layers.LSTMCell(hidden_size_l2)"
   ]
  },
  {
   "cell_type": "code",
   "execution_count": 30,
   "metadata": {
    "tags": []
   },
   "outputs": [],
   "source": [
    "stacked_lstm = tf.keras.layers.StackedRNNCells([lstm_cell_l1, lstm_cell_l2])"
   ]
  },
  {
   "cell_type": "markdown",
   "metadata": {},
   "source": [
    "<b>tf.keras.layers.RNN</b> creates a recurrent neural network using <b>stacked_lstm</b>. \n",
    "\n",
    "The input should be a Tensor of shape: [batch_size, max_time, embedding_vector_size], in our case it would be (30, 20, 200)\n"
   ]
  },
  {
   "cell_type": "code",
   "execution_count": 31,
   "metadata": {
    "tags": []
   },
   "outputs": [],
   "source": [
    "layer  =  tf.keras.layers.RNN(stacked_lstm,[batch_size, num_steps],return_state=False,stateful=True,trainable=True)"
   ]
  },
  {
   "cell_type": "markdown",
   "metadata": {},
   "source": [
    "Also, we initialize the states of the nework:\n",
    "\n",
    "<h4>_initial_state</h4>\n",
    "\n",
    "For each LSTM, there are 2 state matrices, c\\_state and m\\_state.  c_state and m_state represent \"Memory State\" and \"Cell State\". Each hidden layer, has a vector of size 30, which keeps the states. so, for 200 hidden units in each LSTM, we have a matrix of size [30x200]\n"
   ]
  },
  {
   "cell_type": "code",
   "execution_count": 32,
   "metadata": {
    "tags": []
   },
   "outputs": [],
   "source": [
    "init_state = tf.Variable(tf.zeros([batch_size,embeding_vector_size]),trainable=False)"
   ]
  },
  {
   "cell_type": "code",
   "execution_count": 33,
   "metadata": {
    "tags": []
   },
   "outputs": [],
   "source": [
    "layer.inital_state = init_state"
   ]
  },
  {
   "cell_type": "code",
   "execution_count": 34,
   "metadata": {
    "tags": []
   },
   "outputs": [
    {
     "data": {
      "text/plain": [
       "<tf.Variable 'Variable:0' shape=(30, 200) dtype=float32, numpy=\n",
       "array([[0., 0., 0., ..., 0., 0., 0.],\n",
       "       [0., 0., 0., ..., 0., 0., 0.],\n",
       "       [0., 0., 0., ..., 0., 0., 0.],\n",
       "       ...,\n",
       "       [0., 0., 0., ..., 0., 0., 0.],\n",
       "       [0., 0., 0., ..., 0., 0., 0.],\n",
       "       [0., 0., 0., ..., 0., 0., 0.]], dtype=float32)>"
      ]
     },
     "execution_count": 34,
     "metadata": {},
     "output_type": "execute_result"
    }
   ],
   "source": [
    "layer.inital_state"
   ]
  },
  {
   "cell_type": "markdown",
   "metadata": {},
   "source": [
    "so, lets look at the outputs. The output of the stackedLSTM comes from 128 hidden_layer, and in each time step(=20), one of them get activated. we use the linear activation to map the 128 hidden layer to a [30X20 matrix]\n"
   ]
  },
  {
   "cell_type": "code",
   "execution_count": 35,
   "metadata": {
    "tags": []
   },
   "outputs": [],
   "source": [
    "outputs = layer(inputs)"
   ]
  },
  {
   "cell_type": "code",
   "execution_count": 36,
   "metadata": {
    "tags": []
   },
   "outputs": [
    {
     "data": {
      "text/plain": [
       "<tf.Tensor: shape=(30, 20, 128), dtype=float32, numpy=\n",
       "array([[[ 4.6811896e-04, -7.4208563e-04,  8.3014619e-04, ...,\n",
       "         -2.3166127e-04, -3.6211353e-05, -3.2580196e-05],\n",
       "        [ 2.0885654e-03, -2.2876484e-03,  2.4904737e-03, ...,\n",
       "         -2.6941168e-04,  4.4032015e-04,  9.9313061e-04],\n",
       "        [ 2.8490224e-03, -2.4872669e-03,  2.6583164e-03, ...,\n",
       "         -8.9159491e-04,  3.1517148e-03,  2.3994208e-03],\n",
       "        ...,\n",
       "        [ 2.0804915e-03,  1.8697126e-04,  4.3074181e-03, ...,\n",
       "         -1.3965429e-03, -2.5853077e-03,  6.9044395e-03],\n",
       "        [ 2.7443112e-03, -2.4402613e-04,  2.3201553e-03, ...,\n",
       "         -3.4953933e-03, -3.4939805e-03,  7.9023335e-03],\n",
       "        [ 2.6495676e-03, -1.4877088e-03, -1.5695811e-04, ...,\n",
       "         -4.0681972e-03, -3.3733908e-03,  8.8915415e-03]],\n",
       "\n",
       "       [[ 2.9373576e-04, -1.6228217e-04,  1.0567609e-03, ...,\n",
       "         -4.9811677e-04,  2.0106549e-04, -5.0149299e-04],\n",
       "        [-1.1011639e-05, -5.9144438e-04,  3.5386505e-03, ...,\n",
       "          8.5503299e-04,  8.6776324e-04, -1.2429801e-04],\n",
       "        [-1.1465803e-03,  3.0524511e-04,  4.2839288e-03, ...,\n",
       "          1.2839373e-03,  1.9752921e-03,  1.7214259e-03],\n",
       "        ...,\n",
       "        [ 6.6308351e-04, -1.7352399e-03,  7.8428292e-04, ...,\n",
       "         -4.2719324e-03,  1.8012637e-03,  2.3986383e-03],\n",
       "        [ 4.7391679e-04, -2.3569947e-03,  7.1978767e-04, ...,\n",
       "         -4.8812744e-03,  1.3438486e-03,  1.8301477e-03],\n",
       "        [ 6.9239060e-04, -1.5566619e-03,  1.5580611e-03, ...,\n",
       "         -5.4784352e-03,  6.5928302e-04,  1.1699850e-03]],\n",
       "\n",
       "       [[ 2.5148263e-05,  7.3457093e-05,  9.2206326e-05, ...,\n",
       "          1.2422320e-03, -2.4730881e-04,  7.4592873e-04],\n",
       "        [ 2.6951058e-04,  1.7918922e-03,  2.7372385e-04, ...,\n",
       "          6.3859753e-04,  1.2912377e-04,  1.9523132e-03],\n",
       "        [ 1.0718496e-03,  3.2250565e-03,  3.6075819e-04, ...,\n",
       "         -6.4674194e-04,  3.4703521e-04,  2.4159108e-03],\n",
       "        ...,\n",
       "        [-8.8817405e-04,  1.0202626e-03, -3.1875393e-03, ...,\n",
       "         -1.6996072e-03,  2.6744222e-03,  1.0937362e-02],\n",
       "        [-1.1240579e-03,  1.9350345e-03, -4.8882314e-03, ...,\n",
       "         -1.6930335e-03,  3.7628124e-03,  1.1033719e-02],\n",
       "        [ 5.1261397e-04,  1.5303851e-03, -5.7739122e-03, ...,\n",
       "         -4.1500767e-04,  3.8678008e-03,  1.1136023e-02]],\n",
       "\n",
       "       ...,\n",
       "\n",
       "       [[-4.4911978e-04, -7.4532261e-04,  1.6586679e-04, ...,\n",
       "          6.9273642e-04, -5.8266486e-04, -1.0885174e-03],\n",
       "        [ 8.5983728e-04, -9.6770679e-04,  1.1892652e-03, ...,\n",
       "          4.7203014e-04, -6.9279067e-04, -1.8656122e-03],\n",
       "        [ 1.9049074e-03, -1.4247325e-03,  8.4327545e-04, ...,\n",
       "          7.9058611e-04, -9.3166763e-04, -1.3153857e-03],\n",
       "        ...,\n",
       "        [-4.8007253e-03,  3.0908682e-03, -7.8492500e-03, ...,\n",
       "          1.5933139e-03,  5.3891274e-03,  1.0551161e-03],\n",
       "        [-5.4384591e-03,  3.6689532e-03, -6.5136519e-03, ...,\n",
       "          1.6255331e-03,  4.7017979e-03,  1.0055408e-03],\n",
       "        [-4.8596631e-03,  4.1293022e-03, -6.6282391e-03, ...,\n",
       "          3.4572182e-03,  2.9356072e-03,  1.0507728e-04]],\n",
       "\n",
       "       [[-4.1775886e-04,  1.5038178e-04,  2.2215109e-04, ...,\n",
       "         -1.1564387e-03, -2.3734193e-04, -3.5703578e-04],\n",
       "        [-1.0381456e-03,  6.1687524e-04,  4.9069652e-04, ...,\n",
       "         -9.0653874e-04, -3.7478807e-04, -3.2750965e-04],\n",
       "        [-7.1294612e-04,  1.4134600e-03,  3.6634647e-04, ...,\n",
       "         -1.3825520e-03, -3.0665835e-06, -6.1041815e-04],\n",
       "        ...,\n",
       "        [ 5.7499559e-04,  1.7130378e-03, -1.2402375e-03, ...,\n",
       "         -4.1856337e-03, -7.1486584e-03,  5.4816636e-03],\n",
       "        [ 7.3488959e-04,  1.7533036e-03,  6.2989467e-04, ...,\n",
       "         -1.8766053e-03, -6.2751076e-03,  6.0275788e-03],\n",
       "        [-1.0617275e-04,  1.3331741e-03,  1.3656806e-03, ...,\n",
       "          1.4988615e-03, -5.2316994e-03,  4.6411213e-03]],\n",
       "\n",
       "       [[ 2.4894325e-03, -5.2943284e-05, -5.1319937e-04, ...,\n",
       "          3.6258751e-04, -2.6715928e-04, -1.0113664e-03],\n",
       "        [ 4.5150965e-03, -9.1367951e-07, -6.0903712e-04, ...,\n",
       "         -5.9085136e-04,  5.0182196e-05, -1.5154522e-03],\n",
       "        [ 5.6213597e-03,  3.4431240e-04, -1.6855551e-03, ...,\n",
       "          2.7738661e-05,  1.2091403e-04, -1.9000320e-03],\n",
       "        ...,\n",
       "        [ 7.9223271e-03,  1.6920280e-03,  2.3520056e-03, ...,\n",
       "         -5.6153457e-03, -8.2150912e-03,  2.6683775e-03],\n",
       "        [ 7.6337536e-03, -3.8605457e-04,  2.2243587e-03, ...,\n",
       "         -5.1378114e-03, -8.9348834e-03, -1.7670526e-04],\n",
       "        [ 7.8824684e-03,  3.4567920e-04,  3.3133377e-03, ...,\n",
       "         -3.5389538e-03, -8.0383234e-03, -2.7875851e-03]]], dtype=float32)>"
      ]
     },
     "execution_count": 36,
     "metadata": {},
     "output_type": "execute_result"
    }
   ],
   "source": [
    "outputs"
   ]
  },
  {
   "cell_type": "markdown",
   "metadata": {},
   "source": [
    "<h2>Dense layer</h2>\n",
    "We now create densely-connected neural network layer that would reshape the outputs tensor from  [30 x 20 x 128] to [30 x 20 x 10000].\n"
   ]
  },
  {
   "cell_type": "code",
   "execution_count": 37,
   "metadata": {
    "tags": []
   },
   "outputs": [],
   "source": [
    "dense = tf.keras.layers.Dense(vocab_size)"
   ]
  },
  {
   "cell_type": "code",
   "execution_count": 38,
   "metadata": {
    "tags": []
   },
   "outputs": [],
   "source": [
    "logits_outputs  = dense(outputs)"
   ]
  },
  {
   "cell_type": "code",
   "execution_count": 39,
   "metadata": {
    "tags": []
   },
   "outputs": [
    {
     "name": "stdout",
     "output_type": "stream",
     "text": [
      "shape of the output from dense layer:  (30, 20, 10000)\n"
     ]
    }
   ],
   "source": [
    "print(\"shape of the output from dense layer: \", logits_outputs.shape) #(batch_size, sequence_length, vocab_size)"
   ]
  },
  {
   "cell_type": "markdown",
   "metadata": {},
   "source": [
    "<h2>Activation layer</h2>\n",
    "\n",
    "\n",
    "A softmax activation layers is also then applied to derive the probability of the output being in any of the multiclass(10000 in this case) possibilities. \n"
   ]
  },
  {
   "cell_type": "code",
   "execution_count": 40,
   "metadata": {
    "tags": []
   },
   "outputs": [],
   "source": [
    "activation = tf.keras.layers.Activation('softmax')"
   ]
  },
  {
   "cell_type": "code",
   "execution_count": 41,
   "metadata": {
    "tags": []
   },
   "outputs": [],
   "source": [
    "output_words_prob = activation(logits_outputs)"
   ]
  },
  {
   "cell_type": "code",
   "execution_count": 42,
   "metadata": {
    "tags": []
   },
   "outputs": [
    {
     "name": "stdout",
     "output_type": "stream",
     "text": [
      "shape of the output from the activation layer:  (30, 20, 10000)\n"
     ]
    }
   ],
   "source": [
    "print(\"shape of the output from the activation layer: \", output_words_prob.shape) #(batch_size, sequence_length, vocab_size)"
   ]
  },
  {
   "cell_type": "markdown",
   "metadata": {},
   "source": [
    "Lets look at the probability of observing words for t=0 to t=20:\n"
   ]
  },
  {
   "cell_type": "code",
   "execution_count": 43,
   "metadata": {
    "tags": []
   },
   "outputs": [
    {
     "name": "stdout",
     "output_type": "stream",
     "text": [
      "The probability of observing words in t=0 to t=20 tf.Tensor(\n",
      "[[1.00020603e-04 9.99824406e-05 9.99859622e-05 ... 1.00001271e-04\n",
      "  1.00004538e-04 1.00016907e-04]\n",
      " [1.00029218e-04 9.99713448e-05 9.99801123e-05 ... 9.99979311e-05\n",
      "  1.00001322e-04 1.00007113e-04]\n",
      " [1.00018988e-04 9.99724361e-05 9.99865006e-05 ... 1.00007674e-04\n",
      "  1.00004880e-04 9.99710974e-05]\n",
      " ...\n",
      " [1.00056939e-04 9.99840850e-05 1.00028214e-04 ... 9.99121912e-05\n",
      "  1.00048703e-04 9.99844851e-05]\n",
      " [1.00046753e-04 9.99615368e-05 1.00016550e-04 ... 9.99274343e-05\n",
      "  1.00060111e-04 1.00005171e-04]\n",
      " [1.00063189e-04 9.99444455e-05 9.99962940e-05 ... 9.99382464e-05\n",
      "  1.00033656e-04 1.00010730e-04]], shape=(20, 10000), dtype=float32)\n"
     ]
    }
   ],
   "source": [
    "print(\"The probability of observing words in t=0 to t=20\", output_words_prob[0,0:num_steps])"
   ]
  },
  {
   "cell_type": "markdown",
   "metadata": {},
   "source": [
    "<h3>Prediction</h3>\n",
    "What is the word correspond to the probability output? Lets use the maximum probability:\n"
   ]
  },
  {
   "cell_type": "code",
   "execution_count": 44,
   "metadata": {
    "tags": []
   },
   "outputs": [
    {
     "data": {
      "text/plain": [
       "array([5342, 4461, 4461, 3072, 4499, 4499, 4168, 4168, 4168, 9820, 9820,\n",
       "       9820, 3276, 3276, 5645, 5645, 5645, 5645,  568, 8330])"
      ]
     },
     "execution_count": 44,
     "metadata": {},
     "output_type": "execute_result"
    }
   ],
   "source": [
    "np.argmax(output_words_prob[0,0:num_steps], axis=1)"
   ]
  },
  {
   "cell_type": "markdown",
   "metadata": {},
   "source": [
    "So, what is the ground truth for the first word of first sentence? You can get it from target tensor, if you want to find the embedding vector: \n"
   ]
  },
  {
   "cell_type": "code",
   "execution_count": 45,
   "metadata": {
    "tags": []
   },
   "outputs": [
    {
     "data": {
      "text/plain": [
       "array([9971, 9972, 9974, 9975, 9976, 9980, 9981, 9982, 9983, 9984, 9986,\n",
       "       9987, 9988, 9989, 9991, 9992, 9993, 9994, 9995, 9996], dtype=int32)"
      ]
     },
     "execution_count": 45,
     "metadata": {},
     "output_type": "execute_result"
    }
   ],
   "source": [
    "_targets[0]"
   ]
  },
  {
   "cell_type": "markdown",
   "metadata": {},
   "source": [
    "<h4>Objective function</h4>\n",
    "\n",
    "\n",
    "How similar the predicted words are to the target words?\n",
    "\n",
    "\n",
    "Now we have to define our objective function, to calculate the similarity of predicted values to ground truth, and then, penalize the model with the error. Our objective is to minimize loss function, that is, to minimize the average negative log probability of the target words:\n",
    "\n",
    "$$\\text{loss} = -\\frac{1}{N}\\sum_{i=1}^{N} \\ln p_{\\text{target}_i}$$\n",
    "\n",
    "This function is already implemented and available in TensorFlow through *tf.keras.losses.sparse_categorical_crossentropy*. It calculates the categorical cross-entropy loss for <b>logits</b> and the <b>target</b> sequence.  \n",
    "\n",
    "The arguments of this function are:  \n",
    "<ul>\n",
    "    <li>logits: List of 2D Tensors of shape [batch_size x num_decoder_symbols].</li>  \n",
    "    <li>targets: List of 1D batch-sized int32 Tensors of the same length as logits.</li>   \n",
    "</ul>\n"
   ]
  },
  {
   "cell_type": "code",
   "execution_count": 46,
   "metadata": {
    "tags": []
   },
   "outputs": [],
   "source": [
    "def crossentropy(y_true, y_pred):\n",
    "    return tf.keras.losses.sparse_categorical_crossentropy(y_true, y_pred)"
   ]
  },
  {
   "cell_type": "code",
   "execution_count": 47,
   "metadata": {
    "tags": []
   },
   "outputs": [],
   "source": [
    "loss  = crossentropy(_targets, output_words_prob)"
   ]
  },
  {
   "cell_type": "markdown",
   "metadata": {},
   "source": [
    "Lets look at the first 10 values of loss:\n"
   ]
  },
  {
   "cell_type": "code",
   "execution_count": 48,
   "metadata": {
    "tags": []
   },
   "outputs": [
    {
     "data": {
      "text/plain": [
       "<tf.Tensor: shape=(10,), dtype=float32, numpy=\n",
       "array([9.210305, 9.210422, 9.210074, 9.210626, 9.210138, 9.210747,\n",
       "       9.210475, 9.210684, 9.21065 , 9.210905], dtype=float32)>"
      ]
     },
     "execution_count": 48,
     "metadata": {},
     "output_type": "execute_result"
    }
   ],
   "source": [
    "loss[0,:10]"
   ]
  },
  {
   "cell_type": "markdown",
   "metadata": {},
   "source": [
    "Now, we define cost as average of the losses:\n"
   ]
  },
  {
   "cell_type": "code",
   "execution_count": 49,
   "metadata": {
    "tags": []
   },
   "outputs": [
    {
     "data": {
      "text/plain": [
       "<tf.Tensor: shape=(), dtype=float32, numpy=184.20656>"
      ]
     },
     "execution_count": 49,
     "metadata": {},
     "output_type": "execute_result"
    }
   ],
   "source": [
    "cost = tf.reduce_sum(loss / batch_size)\n",
    "cost"
   ]
  },
  {
   "cell_type": "markdown",
   "metadata": {},
   "source": [
    "<h3>Training</h3>\n",
    "\n",
    "To do training for our network, we have to take the following steps:\n",
    "<ol>\n",
    "    <li>Define the optimizer.</li>\n",
    "    <li>Assemble layers to build model.</li>\n",
    "    <li>Calculate the gradients based on the loss function.</li>\n",
    "    <li>Apply the optimizer to the variables/gradients tuple.</li>\n",
    "</ol>\n"
   ]
  },
  {
   "cell_type": "markdown",
   "metadata": {},
   "source": [
    "<h4>1. Define Optimizer</h4>\n",
    "\n"
   ]
  },
  {
   "cell_type": "code",
   "execution_count": 50,
   "metadata": {
    "tags": []
   },
   "outputs": [
    {
     "name": "stderr",
     "output_type": "stream",
     "text": [
      "/home/jupyterlab/conda/envs/python/lib/python3.7/site-packages/keras/optimizers/optimizer_v2/gradient_descent.py:108: UserWarning: The `lr` argument is deprecated, use `learning_rate` instead.\n",
      "  super(SGD, self).__init__(name, **kwargs)\n"
     ]
    }
   ],
   "source": [
    "# Create a variable for the learning rate\n",
    "lr = tf.Variable(0.0, trainable=False)\n",
    "optimizer = tf.keras.optimizers.SGD(lr=lr, clipnorm=max_grad_norm)"
   ]
  },
  {
   "cell_type": "markdown",
   "metadata": {},
   "source": [
    "<h4>2. Assemble layers to build model.</h4>\n"
   ]
  },
  {
   "cell_type": "code",
   "execution_count": 51,
   "metadata": {
    "tags": []
   },
   "outputs": [
    {
     "name": "stdout",
     "output_type": "stream",
     "text": [
      "Model: \"sequential\"\n",
      "_________________________________________________________________\n",
      " Layer (type)                Output Shape              Param #   \n",
      "=================================================================\n",
      " embedding_vocab (Embedding)  (30, 20, 200)            2000000   \n",
      "                                                                 \n",
      " rnn (RNN)                   (30, 20, 128)             671088    \n",
      "                                                                 \n",
      " dense (Dense)               (30, 20, 10000)           1290000   \n",
      "                                                                 \n",
      " activation (Activation)     (30, 20, 10000)           0         \n",
      "                                                                 \n",
      "=================================================================\n",
      "Total params: 3,961,088\n",
      "Trainable params: 3,955,088\n",
      "Non-trainable params: 6,000\n",
      "_________________________________________________________________\n"
     ]
    }
   ],
   "source": [
    "model = tf.keras.Sequential()\n",
    "model.add(embedding_layer)\n",
    "model.add(layer)\n",
    "model.add(dense)\n",
    "model.add(activation)\n",
    "model.compile(loss=crossentropy, optimizer=optimizer)\n",
    "model.summary()"
   ]
  },
  {
   "cell_type": "markdown",
   "metadata": {},
   "source": [
    "\n",
    "<h4>2. Trainable Variables</h4>\n"
   ]
  },
  {
   "cell_type": "markdown",
   "metadata": {},
   "source": [
    "Defining a variable, if you passed <i>trainable=True</i>, the variable constructor automatically adds new variables to the graph collection <b>GraphKeys.TRAINABLE_VARIABLES</b>. Now, using <i>tf.trainable_variables()</i> you can get all variables created with <b>trainable=True</b>.\n"
   ]
  },
  {
   "cell_type": "code",
   "execution_count": 52,
   "metadata": {
    "tags": []
   },
   "outputs": [],
   "source": [
    "# Get all TensorFlow variables marked as \"trainable\" (i.e. all of them except _lr, which we just created)\n",
    "tvars = model.trainable_variables"
   ]
  },
  {
   "cell_type": "markdown",
   "metadata": {},
   "source": [
    "Note: we can find the name and scope of all variables:\n"
   ]
  },
  {
   "cell_type": "code",
   "execution_count": 53,
   "metadata": {
    "tags": []
   },
   "outputs": [
    {
     "data": {
      "text/plain": [
       "['embedding_vocab/embeddings:0',\n",
       " 'rnn/stacked_rnn_cells/lstm_cell/kernel:0',\n",
       " 'rnn/stacked_rnn_cells/lstm_cell/recurrent_kernel:0',\n",
       " 'rnn/stacked_rnn_cells/lstm_cell/bias:0',\n",
       " 'rnn/stacked_rnn_cells/lstm_cell_1/kernel:0',\n",
       " 'rnn/stacked_rnn_cells/lstm_cell_1/recurrent_kernel:0',\n",
       " 'rnn/stacked_rnn_cells/lstm_cell_1/bias:0',\n",
       " 'dense/kernel:0',\n",
       " 'dense/bias:0']"
      ]
     },
     "execution_count": 53,
     "metadata": {},
     "output_type": "execute_result"
    }
   ],
   "source": [
    "[v.name for v in tvars] "
   ]
  },
  {
   "cell_type": "markdown",
   "metadata": {},
   "source": [
    "<h4>3. Calculate the gradients based on the loss function</h4>\n"
   ]
  },
  {
   "cell_type": "markdown",
   "metadata": {},
   "source": [
    "**Gradient**: The gradient of a function is the slope of its derivative (line), or in other words, the rate of change of a function. It's a vector (a direction to move) that points in the direction of greatest increase of the function, and calculated by the <b>derivative</b> operation.\n"
   ]
  },
  {
   "cell_type": "markdown",
   "metadata": {},
   "source": [
    "First lets recall the gradient function using an toy example:\n",
    "$$ z = \\left(2x^2 + 3xy\\right)$$\n"
   ]
  },
  {
   "cell_type": "code",
   "execution_count": 54,
   "metadata": {
    "tags": []
   },
   "outputs": [],
   "source": [
    "x = tf.constant(1.0)\n",
    "y =  tf.constant(2.0)\n",
    "with tf.GradientTape(persistent=True) as g:\n",
    "    g.watch(x)\n",
    "    g.watch(y)\n",
    "    func_test = 2 * x * x + 3 * x * y"
   ]
  },
  {
   "cell_type": "markdown",
   "metadata": {},
   "source": [
    "The <b>tf.gradients()</b> function allows you to compute the symbolic gradient of one tensor with respect to one or more other tensors—including variables. <b>tf.gradients(func, xs)</b> constructs symbolic partial derivatives of sum of <b>func</b> w.r.t. <i>x</i> in <b>xs</b>. \n",
    "\n",
    "Now, lets look at the derivitive w.r.t. <b>var_x</b>:\n",
    "$$ \\frac{\\partial \\:}{\\partial \\:x}\\left(2x^2 + 3xy\\right) = 4x + 3y $$\n"
   ]
  },
  {
   "cell_type": "code",
   "execution_count": 55,
   "metadata": {
    "tags": []
   },
   "outputs": [
    {
     "name": "stdout",
     "output_type": "stream",
     "text": [
      "tf.Tensor(10.0, shape=(), dtype=float32)\n"
     ]
    }
   ],
   "source": [
    "var_grad = g.gradient(func_test, x) # Will compute to 10.0\n",
    "print(var_grad)"
   ]
  },
  {
   "cell_type": "markdown",
   "metadata": {},
   "source": [
    "the derivative w.r.t. <b>var_y</b>:\n",
    "$$ \\frac{\\partial \\:}{\\partial \\:y}\\left(2x^2 + 3xy\\right) = 3x $$\n"
   ]
  },
  {
   "cell_type": "code",
   "execution_count": 56,
   "metadata": {
    "tags": []
   },
   "outputs": [
    {
     "name": "stdout",
     "output_type": "stream",
     "text": [
      "tf.Tensor(3.0, shape=(), dtype=float32)\n"
     ]
    }
   ],
   "source": [
    "var_grad = g.gradient(func_test, y) # Will compute to 3.0\n",
    "print(var_grad)"
   ]
  },
  {
   "cell_type": "markdown",
   "metadata": {},
   "source": [
    "Now, we can look at gradients w.r.t all variables:\n"
   ]
  },
  {
   "cell_type": "code",
   "execution_count": 57,
   "metadata": {
    "tags": []
   },
   "outputs": [],
   "source": [
    "with tf.GradientTape() as tape:\n",
    "    # Forward pass.\n",
    "    output_words_prob = model(_input_data)\n",
    "    # Loss value for this batch.\n",
    "    loss  = crossentropy(_targets, output_words_prob)\n",
    "    cost = tf.reduce_sum(loss,axis=0) / batch_size"
   ]
  },
  {
   "cell_type": "code",
   "execution_count": 58,
   "metadata": {
    "tags": []
   },
   "outputs": [],
   "source": [
    "# Get gradients of loss wrt the trainable variables.\n",
    "grad_t_list = tape.gradient(cost, tvars)"
   ]
  },
  {
   "cell_type": "code",
   "execution_count": 59,
   "metadata": {
    "tags": []
   },
   "outputs": [
    {
     "name": "stdout",
     "output_type": "stream",
     "text": [
      "[<tensorflow.python.framework.indexed_slices.IndexedSlices object at 0x7fcd8df7c490>, <tf.Tensor: shape=(200, 1024), dtype=float32, numpy=\n",
      "array([[ 1.7115912e-06, -3.0119520e-07,  1.5701482e-07, ...,\n",
      "         3.2935077e-07,  1.4097520e-07, -4.8523106e-09],\n",
      "       [-4.4625034e-07, -1.3487465e-07,  5.1358671e-07, ...,\n",
      "        -1.1786108e-07, -9.8996054e-08, -2.0172115e-07],\n",
      "       [-2.7351243e-07, -6.4550272e-07,  7.7795085e-07, ...,\n",
      "         5.2640843e-07,  2.7056586e-07,  1.3009179e-07],\n",
      "       ...,\n",
      "       [-2.8491829e-07,  1.2507957e-07,  5.7975797e-07, ...,\n",
      "        -1.8714205e-07,  2.2604245e-07,  4.2128522e-07],\n",
      "       [ 8.8988941e-07, -3.2159613e-07,  9.8303701e-07, ...,\n",
      "        -1.8215238e-07, -2.7512914e-07, -3.1678911e-07],\n",
      "       [-5.2273685e-07,  2.0832769e-07, -3.5644541e-07, ...,\n",
      "        -7.4823689e-08, -1.8914483e-07,  1.6923862e-07]], dtype=float32)>, <tf.Tensor: shape=(256, 1024), dtype=float32, numpy=\n",
      "array([[ 1.13369811e-08,  7.76682327e-08,  1.36026216e-07, ...,\n",
      "         2.19223484e-08, -6.49140475e-09, -1.31502304e-07],\n",
      "       [ 3.29087015e-08, -1.00563042e-08, -1.15469341e-07, ...,\n",
      "        -1.01806059e-07,  1.85106277e-08,  9.66231362e-09],\n",
      "       [ 4.28781739e-08, -1.78426632e-07, -2.06201975e-07, ...,\n",
      "        -8.42211207e-08, -1.36825307e-09, -1.19689986e-07],\n",
      "       ...,\n",
      "       [ 1.38667531e-07, -1.18273249e-07, -1.16581120e-07, ...,\n",
      "         1.65873701e-07,  1.15432321e-08,  1.09460046e-07],\n",
      "       [ 9.88013085e-08,  1.43206620e-08,  6.29048102e-08, ...,\n",
      "        -1.03330933e-07,  8.83139109e-08, -1.07472623e-07],\n",
      "       [ 7.16756503e-08, -7.76213227e-09,  9.92671616e-08, ...,\n",
      "        -1.61096821e-07, -4.28139337e-08,  2.70635553e-07]], dtype=float32)>, <tf.Tensor: shape=(1024,), dtype=float32, numpy=\n",
      "array([ 1.6621168e-05, -3.3871220e-07,  9.7544907e-06, ...,\n",
      "        1.4647660e-05,  1.0024340e-05,  6.7312067e-06], dtype=float32)>, <tf.Tensor: shape=(256, 512), dtype=float32, numpy=\n",
      "array([[-1.5726553e-07,  1.7087014e-08, -1.1601356e-07, ...,\n",
      "        -3.6386649e-07,  5.1781853e-08,  2.6486009e-07],\n",
      "       [ 2.1906970e-08,  1.6111325e-07, -1.9013569e-07, ...,\n",
      "        -1.6541027e-07,  3.7877555e-08, -1.6476156e-07],\n",
      "       [ 8.2142463e-08,  1.2421273e-07,  2.7586830e-07, ...,\n",
      "        -1.7807025e-07, -1.6130869e-07, -5.6944337e-08],\n",
      "       ...,\n",
      "       [ 5.0299054e-08,  1.2752338e-07,  1.7763433e-08, ...,\n",
      "        -3.6474040e-07,  1.5632824e-07, -4.0097481e-07],\n",
      "       [ 9.6224483e-08, -4.0781174e-08,  1.7247288e-07, ...,\n",
      "         1.9776493e-07,  3.9498607e-07, -1.4303252e-07],\n",
      "       [ 3.0210325e-07, -8.5789779e-08,  3.5498016e-07, ...,\n",
      "         1.9272179e-07, -1.5358347e-07,  1.2464795e-07]], dtype=float32)>, <tf.Tensor: shape=(128, 512), dtype=float32, numpy=\n",
      "array([[ 2.3716683e-07, -5.4136127e-09,  2.3919750e-07, ...,\n",
      "        -8.1292363e-08,  1.2251775e-07,  1.3818544e-07],\n",
      "       [-5.4123056e-08,  2.5803115e-07,  1.2187031e-07, ...,\n",
      "         3.8205251e-08, -2.6579437e-07, -7.3762749e-08],\n",
      "       [-8.9624265e-08, -9.5329025e-09, -3.4635036e-07, ...,\n",
      "        -2.4136014e-08,  6.4424857e-09, -3.7323069e-08],\n",
      "       ...,\n",
      "       [ 8.0712859e-09,  1.1228005e-07, -1.1054513e-07, ...,\n",
      "        -4.5311964e-08,  3.5870467e-08,  1.4014113e-07],\n",
      "       [ 1.5596548e-07,  1.0931160e-07,  3.1182363e-08, ...,\n",
      "        -1.9850710e-08, -2.1710707e-07, -5.6826899e-09],\n",
      "       [ 2.0907530e-07, -2.3302698e-07,  6.1561956e-10, ...,\n",
      "         8.8365113e-08,  3.5585877e-08,  3.2917421e-07]], dtype=float32)>, <tf.Tensor: shape=(512,), dtype=float32, numpy=\n",
      "array([-1.00028274e-06, -2.11589540e-05, -1.36365088e-07,  2.70251949e-05,\n",
      "       -3.24222201e-05, -9.81177618e-06,  3.30175499e-05, -3.58076868e-05,\n",
      "       -1.34674628e-05, -2.72624811e-06, -1.20061495e-05, -6.50397342e-05,\n",
      "       -5.48304670e-05, -1.37618481e-05, -1.45486993e-05, -8.58545081e-06,\n",
      "        1.41318233e-05, -9.37335062e-05,  8.08625737e-06,  4.74410263e-05,\n",
      "        1.76163103e-05,  2.25075146e-05, -1.35289374e-05, -2.24244541e-05,\n",
      "        5.68245232e-05, -4.72098009e-06,  3.96119613e-05, -2.31634695e-05,\n",
      "       -6.89594453e-05,  7.44293575e-05, -2.82463370e-05,  2.18144014e-05,\n",
      "        3.90096175e-05,  3.49616130e-05,  3.35035693e-05, -5.11277794e-05,\n",
      "       -9.84817598e-06, -6.73269169e-05, -1.83434113e-05, -4.80041417e-05,\n",
      "       -4.30109321e-05,  2.58009441e-05,  1.35643622e-05, -1.07994776e-04,\n",
      "        3.40177685e-05,  2.71647750e-05, -8.47374758e-06,  4.91419269e-06,\n",
      "       -1.13234137e-07,  1.47507799e-05, -9.95643768e-06,  8.95966650e-07,\n",
      "        2.25077565e-06,  3.16256665e-05, -2.08003439e-06,  1.23786551e-04,\n",
      "        3.57738281e-06, -7.04612785e-06,  2.37887361e-05, -1.25159495e-05,\n",
      "        4.09021413e-06, -2.36560372e-05, -2.58568471e-05,  9.52692426e-06,\n",
      "       -4.32273009e-05,  9.39960319e-06, -4.23000711e-06, -1.10899055e-04,\n",
      "        3.21122534e-05, -4.84564498e-06,  2.66052666e-06, -2.26685279e-05,\n",
      "       -9.49877722e-06, -2.10985600e-05,  3.30357834e-05,  3.26151458e-05,\n",
      "       -4.50024672e-05,  2.11552524e-05, -5.08820631e-06,  1.07385822e-05,\n",
      "       -1.41337241e-05, -2.30074656e-05, -3.40232364e-05, -3.62457395e-05,\n",
      "        2.58812270e-05,  3.95562529e-05,  2.88419888e-05,  7.50209119e-06,\n",
      "        1.04972523e-05, -8.13334482e-05,  1.53153451e-06,  1.35235532e-05,\n",
      "        1.50806227e-05,  3.08534654e-05, -3.38251120e-05,  3.12644261e-06,\n",
      "        1.05167219e-05, -1.14692215e-04,  1.29265600e-05,  2.01248131e-05,\n",
      "        5.36337975e-05, -9.96478775e-05,  7.88714715e-07,  3.54595213e-05,\n",
      "        4.21989898e-05, -4.16726580e-05, -3.25031760e-05,  1.70428521e-05,\n",
      "       -6.95452400e-07,  4.59111980e-05,  1.76074063e-05, -6.18318381e-07,\n",
      "        2.56440017e-05,  1.90963801e-05, -9.80623190e-06,  2.88358988e-05,\n",
      "        8.90276533e-06, -9.75956027e-06, -3.51367780e-05, -2.09325226e-05,\n",
      "       -1.51221266e-05, -2.51686324e-05, -2.99690837e-05, -7.48495950e-05,\n",
      "       -1.88240665e-06,  2.50889934e-05,  4.15199611e-05,  2.51497549e-05,\n",
      "       -8.09769517e-07, -3.00558786e-05, -1.57201321e-05,  1.07776004e-05,\n",
      "       -3.54808762e-05,  1.47538049e-06,  3.59529076e-05, -5.07803525e-05,\n",
      "       -8.68191637e-06, -5.96981408e-07, -2.04038115e-05, -7.34660425e-05,\n",
      "       -8.55249527e-05, -1.47959117e-05, -4.03864178e-05, -5.71224627e-05,\n",
      "        1.12722955e-06, -1.21727171e-04,  1.97667578e-05,  6.36804543e-05,\n",
      "       -7.76468710e-07,  6.37050380e-06, -3.57521640e-06, -4.23449092e-05,\n",
      "        3.04858913e-05, -1.03589782e-05,  6.56074408e-05, -1.12103771e-05,\n",
      "       -1.06480904e-04,  6.37046760e-05, -2.50040321e-05,  1.94953191e-06,\n",
      "        7.96522363e-05,  5.60890767e-05,  4.06800427e-05, -5.73530961e-05,\n",
      "        3.20260078e-05, -9.86337109e-05, -1.00918096e-05, -7.73307838e-05,\n",
      "       -4.46103986e-05,  2.67973664e-05, -1.41744731e-05, -1.14309485e-04,\n",
      "        2.90606076e-05,  4.61566742e-05, -3.56205419e-06, -1.98189409e-05,\n",
      "       -1.20638269e-05,  7.76239995e-06, -1.67346718e-06, -2.31876584e-05,\n",
      "        1.96454039e-06,  1.28261900e-05, -2.50753146e-06,  1.73414242e-04,\n",
      "        2.11543593e-05, -2.68360054e-05,  1.37632342e-05,  7.99924965e-06,\n",
      "        8.68850475e-06, -5.60754743e-05, -2.67336891e-05,  1.80771185e-05,\n",
      "       -9.22548061e-05, -2.23531097e-05, -2.20495713e-06, -1.63341276e-04,\n",
      "        3.70197886e-05, -3.47935838e-06,  2.43154627e-05, -6.88467262e-05,\n",
      "       -2.41861653e-05, -3.51369963e-05,  4.79444898e-05,  3.16451697e-05,\n",
      "       -4.88475234e-05,  1.58886505e-05, -1.30094395e-05,  6.39338941e-06,\n",
      "       -3.65018750e-05, -1.90949195e-05, -3.29504073e-05, -4.83152107e-05,\n",
      "        1.93558972e-05,  3.54677722e-05,  1.75441019e-05, -2.09347145e-05,\n",
      "        2.43301001e-05, -1.24521437e-04,  7.55925248e-06,  9.76459251e-06,\n",
      "        2.79251822e-07,  1.11098298e-05, -5.58899337e-05,  5.90784202e-06,\n",
      "        1.84563542e-05, -1.44074394e-04,  2.46340605e-05,  1.22327774e-05,\n",
      "        6.90302695e-05, -1.53456931e-04, -9.34282889e-06,  4.24006503e-05,\n",
      "        4.01106736e-05, -3.24504908e-05, -5.59621549e-05,  2.76611700e-05,\n",
      "       -2.26342927e-05,  2.10957496e-05,  1.70490384e-05, -6.27192367e-06,\n",
      "        5.44868453e-05,  3.08267554e-05,  2.26821139e-05,  2.37738986e-05,\n",
      "       -3.53183204e-05,  5.54591770e-06, -4.28753774e-05, -4.80101735e-05,\n",
      "       -1.64674566e-06, -3.90689383e-05, -6.82911777e-05, -1.03119877e-04,\n",
      "       -3.38575592e-06, -1.94994664e-05,  6.36627155e-05,  3.89041925e-05,\n",
      "        5.35767898e-02,  1.41935144e-02, -4.55387682e-02,  1.41418716e-02,\n",
      "        2.34830454e-02, -7.36782700e-03,  1.26250433e-02, -3.14226821e-02,\n",
      "       -8.83074850e-03, -1.75389219e-02,  9.89006553e-03,  1.91267375e-02,\n",
      "       -6.09342828e-02, -3.46900895e-02, -9.66747571e-03,  5.38486615e-02,\n",
      "        1.97190437e-02,  9.39667299e-02,  3.80643271e-03, -4.46430743e-02,\n",
      "        2.86963731e-02,  4.38608788e-03,  2.81923134e-02,  2.15736125e-02,\n",
      "       -1.92094664e-03, -1.02464827e-02, -1.96372718e-02,  5.92477759e-03,\n",
      "       -5.63495234e-02,  1.35303289e-02, -1.24134691e-02, -9.55000892e-03,\n",
      "        4.68055643e-02,  2.10486688e-02, -5.01639396e-02,  3.48422937e-02,\n",
      "       -2.98470538e-02,  4.30000685e-02, -1.60401221e-04,  5.70283309e-02,\n",
      "       -5.31228818e-02,  2.87881680e-02,  1.73925217e-02,  2.24419348e-02,\n",
      "       -8.38797539e-04, -2.07532197e-02,  1.81999374e-02,  1.91896670e-02,\n",
      "        1.82586908e-02, -1.86931584e-02, -1.48310177e-02, -8.81579705e-03,\n",
      "       -1.22402608e-03,  1.95828602e-02, -1.05715860e-02,  4.51841876e-02,\n",
      "       -4.88581359e-02, -1.65503751e-03,  1.01401955e-02,  9.16903242e-02,\n",
      "       -3.91398184e-02,  2.76787346e-03, -4.80520725e-03,  1.23962136e-02,\n",
      "        3.15194540e-02,  8.21884349e-03, -4.14815247e-02, -4.65480909e-02,\n",
      "        2.00030431e-02, -3.11339973e-04,  9.78273153e-03, -2.54516751e-02,\n",
      "       -2.15289555e-02, -3.01612914e-02,  1.33628109e-02,  6.32596295e-03,\n",
      "        2.97018196e-02,  1.17429085e-02,  1.58061888e-02, -2.43661981e-02,\n",
      "       -5.39577426e-03,  4.64843139e-02,  2.04736255e-02, -2.84054410e-02,\n",
      "       -4.75009391e-03,  1.58132184e-02,  5.58798155e-03,  1.89366862e-02,\n",
      "        1.62435404e-03,  4.09499928e-02,  5.65547049e-02,  1.11079123e-02,\n",
      "        3.18778455e-02, -8.59106192e-04, -1.70034561e-02,  6.86533656e-03,\n",
      "       -2.51775282e-03, -4.18890044e-02, -2.28703581e-03,  6.55284198e-03,\n",
      "       -3.31282690e-02,  2.22864673e-02,  1.25508094e-02,  1.64805390e-02,\n",
      "       -3.58959544e-03,  2.53825597e-02, -8.30286294e-02, -4.93071005e-02,\n",
      "        9.52767394e-03,  6.29523536e-03,  4.55326401e-04, -1.57362260e-02,\n",
      "       -3.18717510e-02, -1.44902933e-02,  3.08478065e-02,  2.95590386e-02,\n",
      "        8.98773037e-03, -6.02462701e-03, -3.14014666e-02, -2.81222146e-02,\n",
      "       -4.58985334e-03,  4.31660563e-03,  3.68890986e-02, -3.73522118e-02,\n",
      "        6.35804702e-03, -3.29957157e-03, -3.91102247e-02,  2.45204456e-02,\n",
      "        2.22885592e-06, -2.08909623e-05, -9.77560376e-06,  2.10921680e-05,\n",
      "       -4.10715948e-05, -8.54176506e-06,  3.01904711e-05, -4.33794921e-05,\n",
      "       -1.29780201e-05, -6.27485224e-06, -2.99043859e-06, -7.42666525e-05,\n",
      "       -6.82156606e-05, -1.27373896e-05, -1.88321064e-05, -2.48417164e-05,\n",
      "        1.32219748e-05, -1.01925863e-04, -1.33062531e-06,  5.24509778e-05,\n",
      "        1.47880301e-05,  1.41816654e-05, -2.64089831e-05, -2.96529233e-05,\n",
      "        5.75673112e-05, -3.49732272e-06,  5.06909128e-05, -2.82324290e-05,\n",
      "       -6.80273224e-05,  8.27075855e-05, -2.36917294e-05,  1.28955035e-05,\n",
      "        3.88863409e-05,  3.55704979e-05,  3.56357523e-05, -5.57712847e-05,\n",
      "       -2.79033679e-06, -6.83487669e-05, -2.77289910e-05, -5.36213411e-05,\n",
      "       -4.47452658e-05,  3.15488578e-05,  8.94443838e-06, -1.10897570e-04,\n",
      "        2.87306830e-05,  3.36356898e-05, -3.64654170e-06, -5.59537693e-06,\n",
      "        7.07460458e-06,  1.32413470e-05, -1.15573021e-05, -3.54391614e-06,\n",
      "       -6.84346924e-06,  3.39282778e-05,  9.78601747e-07,  1.38537143e-04,\n",
      "        9.25998938e-06, -2.22607123e-05,  1.38814212e-05, -1.59214396e-05,\n",
      "        1.26600253e-06, -2.58290038e-05, -3.49341281e-05,  1.82429758e-05,\n",
      "       -6.31940784e-05,  4.77790400e-06, -1.12278158e-05, -1.31095236e-04,\n",
      "        3.18251623e-05,  7.43924829e-07,  2.13382373e-06, -2.19747635e-05,\n",
      "       -9.55706309e-06, -1.78720711e-05,  3.21208972e-05,  2.79875094e-05,\n",
      "       -5.70604680e-05,  1.91728323e-05, -1.10022083e-05,  1.38838914e-06,\n",
      "       -2.13968269e-05, -2.13277508e-05, -4.79145638e-05, -4.00086283e-05,\n",
      "        2.65676499e-05,  3.99535675e-05,  2.68005715e-05,  3.65917276e-06,\n",
      "        1.97829650e-05, -9.25193453e-05,  3.80954953e-06,  2.13679486e-05,\n",
      "        1.42190893e-05,  2.92643963e-05, -3.39799662e-05,  1.63696677e-06,\n",
      "        2.00345075e-05, -1.26687984e-04,  1.32891719e-05,  1.50277501e-05,\n",
      "        5.44926588e-05, -1.29602820e-04, -1.00456582e-05,  4.71127496e-05,\n",
      "        3.39028920e-05, -4.47593302e-05, -4.90332750e-05,  2.17586021e-05,\n",
      "       -1.11033623e-05,  4.87841498e-05,  2.11927472e-05, -8.37588232e-07,\n",
      "        2.23532134e-05,  1.18739354e-05, -2.22546023e-05,  2.51655547e-05,\n",
      "        8.08710865e-06, -2.58301661e-05, -3.60993072e-05, -1.94385648e-05,\n",
      "       -1.43097350e-06, -3.49785842e-05, -3.81188984e-05, -8.14640298e-05,\n",
      "       -5.27407246e-06,  2.12289797e-05,  3.70323542e-05,  2.72301877e-05],\n",
      "      dtype=float32)>, <tf.Tensor: shape=(128, 10000), dtype=float32, numpy=\n",
      "array([[-8.6819951e-04, -9.0569345e-04, -4.1429390e-04, ...,\n",
      "         9.1414688e-07,  9.1196216e-07,  9.1353184e-07],\n",
      "       [ 2.0748794e-03,  1.6921910e-03,  2.2599844e-03, ...,\n",
      "        -3.3873937e-06, -3.3874219e-06, -3.3848542e-06],\n",
      "       [ 6.4644730e-04,  1.2618134e-04,  1.0257798e-03, ...,\n",
      "        -1.9922561e-06, -1.9914894e-06, -1.9912347e-06],\n",
      "       ...,\n",
      "       [ 1.1995162e-03, -1.5737240e-04,  1.6052087e-03, ...,\n",
      "        -3.4434045e-06, -3.4413606e-06, -3.4394836e-06],\n",
      "       [ 6.2518060e-04,  1.8671054e-03,  1.2863041e-03, ...,\n",
      "        -2.6661255e-06, -2.6678777e-06, -2.6665148e-06],\n",
      "       [-3.6105849e-03, -2.8986942e-03, -2.1192618e-03, ...,\n",
      "         4.7410695e-06,  4.7358963e-06,  4.7350395e-06]], dtype=float32)>, <tf.Tensor: shape=(10000,), dtype=float32, numpy=\n",
      "array([-0.7979983 , -1.0313318 , -1.0313315 , ...,  0.00200116,\n",
      "        0.00200103,  0.00199998], dtype=float32)>]\n"
     ]
    }
   ],
   "source": [
    "print(grad_t_list)"
   ]
  },
  {
   "cell_type": "markdown",
   "metadata": {},
   "source": [
    "\n",
    "\n",
    "\n",
    "now, we have a list of tensors, t-list. We can use it to find clipped tensors. <b>clip_by_global_norm</b> clips values of multiple tensors by the ratio of the sum of their norms.\n",
    "\n",
    "<b>clip_by_global_norm</b> get <i>t-list</i> as input and returns 2 things:\n",
    "<ul>\n",
    "    <li>a list of clipped tensors, so called <i>list_clipped</i></li> \n",
    "    <li>the global norm (global_norm) of all tensors in t_list</li> \n",
    "</ul>\n"
   ]
  },
  {
   "cell_type": "code",
   "execution_count": 60,
   "metadata": {
    "tags": []
   },
   "outputs": [
    {
     "data": {
      "text/plain": [
       "[<tensorflow.python.framework.indexed_slices.IndexedSlices at 0x7fcd8df7cfd0>,\n",
       " <tf.Tensor: shape=(200, 1024), dtype=float32, numpy=\n",
       " array([[ 1.7115912e-06, -3.0119520e-07,  1.5701482e-07, ...,\n",
       "          3.2935077e-07,  1.4097520e-07, -4.8523106e-09],\n",
       "        [-4.4625034e-07, -1.3487465e-07,  5.1358671e-07, ...,\n",
       "         -1.1786108e-07, -9.8996054e-08, -2.0172115e-07],\n",
       "        [-2.7351243e-07, -6.4550272e-07,  7.7795085e-07, ...,\n",
       "          5.2640843e-07,  2.7056586e-07,  1.3009179e-07],\n",
       "        ...,\n",
       "        [-2.8491829e-07,  1.2507957e-07,  5.7975797e-07, ...,\n",
       "         -1.8714205e-07,  2.2604245e-07,  4.2128522e-07],\n",
       "        [ 8.8988941e-07, -3.2159613e-07,  9.8303701e-07, ...,\n",
       "         -1.8215238e-07, -2.7512914e-07, -3.1678911e-07],\n",
       "        [-5.2273685e-07,  2.0832769e-07, -3.5644541e-07, ...,\n",
       "         -7.4823689e-08, -1.8914483e-07,  1.6923862e-07]], dtype=float32)>,\n",
       " <tf.Tensor: shape=(256, 1024), dtype=float32, numpy=\n",
       " array([[ 1.13369811e-08,  7.76682327e-08,  1.36026216e-07, ...,\n",
       "          2.19223484e-08, -6.49140475e-09, -1.31502304e-07],\n",
       "        [ 3.29087015e-08, -1.00563042e-08, -1.15469341e-07, ...,\n",
       "         -1.01806059e-07,  1.85106277e-08,  9.66231362e-09],\n",
       "        [ 4.28781739e-08, -1.78426632e-07, -2.06201975e-07, ...,\n",
       "         -8.42211207e-08, -1.36825307e-09, -1.19689986e-07],\n",
       "        ...,\n",
       "        [ 1.38667531e-07, -1.18273249e-07, -1.16581120e-07, ...,\n",
       "          1.65873701e-07,  1.15432321e-08,  1.09460046e-07],\n",
       "        [ 9.88013085e-08,  1.43206620e-08,  6.29048102e-08, ...,\n",
       "         -1.03330933e-07,  8.83139109e-08, -1.07472623e-07],\n",
       "        [ 7.16756503e-08, -7.76213227e-09,  9.92671616e-08, ...,\n",
       "         -1.61096821e-07, -4.28139337e-08,  2.70635553e-07]], dtype=float32)>,\n",
       " <tf.Tensor: shape=(1024,), dtype=float32, numpy=\n",
       " array([ 1.6621168e-05, -3.3871220e-07,  9.7544907e-06, ...,\n",
       "         1.4647660e-05,  1.0024340e-05,  6.7312067e-06], dtype=float32)>,\n",
       " <tf.Tensor: shape=(256, 512), dtype=float32, numpy=\n",
       " array([[-1.5726553e-07,  1.7087014e-08, -1.1601356e-07, ...,\n",
       "         -3.6386649e-07,  5.1781853e-08,  2.6486009e-07],\n",
       "        [ 2.1906970e-08,  1.6111325e-07, -1.9013569e-07, ...,\n",
       "         -1.6541027e-07,  3.7877555e-08, -1.6476156e-07],\n",
       "        [ 8.2142463e-08,  1.2421273e-07,  2.7586830e-07, ...,\n",
       "         -1.7807025e-07, -1.6130869e-07, -5.6944337e-08],\n",
       "        ...,\n",
       "        [ 5.0299054e-08,  1.2752338e-07,  1.7763433e-08, ...,\n",
       "         -3.6474040e-07,  1.5632824e-07, -4.0097481e-07],\n",
       "        [ 9.6224483e-08, -4.0781174e-08,  1.7247288e-07, ...,\n",
       "          1.9776493e-07,  3.9498607e-07, -1.4303252e-07],\n",
       "        [ 3.0210325e-07, -8.5789779e-08,  3.5498016e-07, ...,\n",
       "          1.9272179e-07, -1.5358347e-07,  1.2464795e-07]], dtype=float32)>,\n",
       " <tf.Tensor: shape=(128, 512), dtype=float32, numpy=\n",
       " array([[ 2.3716683e-07, -5.4136127e-09,  2.3919750e-07, ...,\n",
       "         -8.1292363e-08,  1.2251775e-07,  1.3818544e-07],\n",
       "        [-5.4123056e-08,  2.5803115e-07,  1.2187031e-07, ...,\n",
       "          3.8205251e-08, -2.6579437e-07, -7.3762749e-08],\n",
       "        [-8.9624265e-08, -9.5329025e-09, -3.4635036e-07, ...,\n",
       "         -2.4136014e-08,  6.4424857e-09, -3.7323069e-08],\n",
       "        ...,\n",
       "        [ 8.0712859e-09,  1.1228005e-07, -1.1054513e-07, ...,\n",
       "         -4.5311964e-08,  3.5870467e-08,  1.4014113e-07],\n",
       "        [ 1.5596548e-07,  1.0931160e-07,  3.1182363e-08, ...,\n",
       "         -1.9850710e-08, -2.1710707e-07, -5.6826899e-09],\n",
       "        [ 2.0907530e-07, -2.3302698e-07,  6.1561956e-10, ...,\n",
       "          8.8365113e-08,  3.5585877e-08,  3.2917421e-07]], dtype=float32)>,\n",
       " <tf.Tensor: shape=(512,), dtype=float32, numpy=\n",
       " array([-1.00028274e-06, -2.11589540e-05, -1.36365088e-07,  2.70251949e-05,\n",
       "        -3.24222201e-05, -9.81177618e-06,  3.30175499e-05, -3.58076868e-05,\n",
       "        -1.34674628e-05, -2.72624811e-06, -1.20061495e-05, -6.50397342e-05,\n",
       "        -5.48304670e-05, -1.37618481e-05, -1.45486993e-05, -8.58545081e-06,\n",
       "         1.41318233e-05, -9.37335062e-05,  8.08625737e-06,  4.74410263e-05,\n",
       "         1.76163103e-05,  2.25075146e-05, -1.35289374e-05, -2.24244541e-05,\n",
       "         5.68245232e-05, -4.72098009e-06,  3.96119613e-05, -2.31634695e-05,\n",
       "        -6.89594453e-05,  7.44293575e-05, -2.82463370e-05,  2.18144014e-05,\n",
       "         3.90096175e-05,  3.49616130e-05,  3.35035693e-05, -5.11277794e-05,\n",
       "        -9.84817598e-06, -6.73269169e-05, -1.83434113e-05, -4.80041417e-05,\n",
       "        -4.30109321e-05,  2.58009441e-05,  1.35643622e-05, -1.07994776e-04,\n",
       "         3.40177685e-05,  2.71647750e-05, -8.47374758e-06,  4.91419269e-06,\n",
       "        -1.13234137e-07,  1.47507799e-05, -9.95643768e-06,  8.95966650e-07,\n",
       "         2.25077565e-06,  3.16256665e-05, -2.08003439e-06,  1.23786551e-04,\n",
       "         3.57738281e-06, -7.04612785e-06,  2.37887361e-05, -1.25159495e-05,\n",
       "         4.09021413e-06, -2.36560372e-05, -2.58568471e-05,  9.52692426e-06,\n",
       "        -4.32273009e-05,  9.39960319e-06, -4.23000711e-06, -1.10899055e-04,\n",
       "         3.21122534e-05, -4.84564498e-06,  2.66052666e-06, -2.26685279e-05,\n",
       "        -9.49877722e-06, -2.10985600e-05,  3.30357834e-05,  3.26151458e-05,\n",
       "        -4.50024672e-05,  2.11552524e-05, -5.08820631e-06,  1.07385822e-05,\n",
       "        -1.41337241e-05, -2.30074656e-05, -3.40232364e-05, -3.62457395e-05,\n",
       "         2.58812270e-05,  3.95562529e-05,  2.88419888e-05,  7.50209119e-06,\n",
       "         1.04972523e-05, -8.13334482e-05,  1.53153451e-06,  1.35235532e-05,\n",
       "         1.50806227e-05,  3.08534654e-05, -3.38251120e-05,  3.12644261e-06,\n",
       "         1.05167219e-05, -1.14692215e-04,  1.29265600e-05,  2.01248131e-05,\n",
       "         5.36337975e-05, -9.96478775e-05,  7.88714715e-07,  3.54595213e-05,\n",
       "         4.21989898e-05, -4.16726580e-05, -3.25031760e-05,  1.70428521e-05,\n",
       "        -6.95452400e-07,  4.59111980e-05,  1.76074063e-05, -6.18318381e-07,\n",
       "         2.56440017e-05,  1.90963801e-05, -9.80623190e-06,  2.88358988e-05,\n",
       "         8.90276533e-06, -9.75956027e-06, -3.51367780e-05, -2.09325226e-05,\n",
       "        -1.51221266e-05, -2.51686324e-05, -2.99690837e-05, -7.48495950e-05,\n",
       "        -1.88240665e-06,  2.50889934e-05,  4.15199611e-05,  2.51497549e-05,\n",
       "        -8.09769517e-07, -3.00558786e-05, -1.57201321e-05,  1.07776004e-05,\n",
       "        -3.54808762e-05,  1.47538049e-06,  3.59529076e-05, -5.07803525e-05,\n",
       "        -8.68191637e-06, -5.96981408e-07, -2.04038115e-05, -7.34660425e-05,\n",
       "        -8.55249527e-05, -1.47959117e-05, -4.03864178e-05, -5.71224627e-05,\n",
       "         1.12722955e-06, -1.21727171e-04,  1.97667578e-05,  6.36804543e-05,\n",
       "        -7.76468710e-07,  6.37050380e-06, -3.57521640e-06, -4.23449092e-05,\n",
       "         3.04858913e-05, -1.03589782e-05,  6.56074408e-05, -1.12103771e-05,\n",
       "        -1.06480904e-04,  6.37046760e-05, -2.50040321e-05,  1.94953191e-06,\n",
       "         7.96522363e-05,  5.60890767e-05,  4.06800427e-05, -5.73530961e-05,\n",
       "         3.20260078e-05, -9.86337109e-05, -1.00918096e-05, -7.73307838e-05,\n",
       "        -4.46103986e-05,  2.67973664e-05, -1.41744731e-05, -1.14309485e-04,\n",
       "         2.90606076e-05,  4.61566742e-05, -3.56205419e-06, -1.98189409e-05,\n",
       "        -1.20638269e-05,  7.76239995e-06, -1.67346718e-06, -2.31876584e-05,\n",
       "         1.96454039e-06,  1.28261900e-05, -2.50753146e-06,  1.73414242e-04,\n",
       "         2.11543593e-05, -2.68360054e-05,  1.37632342e-05,  7.99924965e-06,\n",
       "         8.68850475e-06, -5.60754743e-05, -2.67336891e-05,  1.80771185e-05,\n",
       "        -9.22548061e-05, -2.23531097e-05, -2.20495713e-06, -1.63341276e-04,\n",
       "         3.70197886e-05, -3.47935838e-06,  2.43154627e-05, -6.88467262e-05,\n",
       "        -2.41861653e-05, -3.51369963e-05,  4.79444898e-05,  3.16451697e-05,\n",
       "        -4.88475234e-05,  1.58886505e-05, -1.30094395e-05,  6.39338941e-06,\n",
       "        -3.65018750e-05, -1.90949195e-05, -3.29504073e-05, -4.83152107e-05,\n",
       "         1.93558972e-05,  3.54677722e-05,  1.75441019e-05, -2.09347145e-05,\n",
       "         2.43301001e-05, -1.24521437e-04,  7.55925248e-06,  9.76459251e-06,\n",
       "         2.79251822e-07,  1.11098298e-05, -5.58899337e-05,  5.90784202e-06,\n",
       "         1.84563542e-05, -1.44074394e-04,  2.46340605e-05,  1.22327774e-05,\n",
       "         6.90302695e-05, -1.53456931e-04, -9.34282889e-06,  4.24006503e-05,\n",
       "         4.01106736e-05, -3.24504908e-05, -5.59621549e-05,  2.76611700e-05,\n",
       "        -2.26342927e-05,  2.10957496e-05,  1.70490384e-05, -6.27192367e-06,\n",
       "         5.44868453e-05,  3.08267554e-05,  2.26821139e-05,  2.37738986e-05,\n",
       "        -3.53183204e-05,  5.54591770e-06, -4.28753774e-05, -4.80101735e-05,\n",
       "        -1.64674566e-06, -3.90689383e-05, -6.82911777e-05, -1.03119877e-04,\n",
       "        -3.38575592e-06, -1.94994664e-05,  6.36627155e-05,  3.89041925e-05,\n",
       "         5.35767898e-02,  1.41935144e-02, -4.55387682e-02,  1.41418716e-02,\n",
       "         2.34830454e-02, -7.36782700e-03,  1.26250433e-02, -3.14226821e-02,\n",
       "        -8.83074850e-03, -1.75389219e-02,  9.89006553e-03,  1.91267375e-02,\n",
       "        -6.09342828e-02, -3.46900895e-02, -9.66747571e-03,  5.38486615e-02,\n",
       "         1.97190437e-02,  9.39667299e-02,  3.80643271e-03, -4.46430743e-02,\n",
       "         2.86963731e-02,  4.38608788e-03,  2.81923134e-02,  2.15736125e-02,\n",
       "        -1.92094664e-03, -1.02464827e-02, -1.96372718e-02,  5.92477759e-03,\n",
       "        -5.63495234e-02,  1.35303289e-02, -1.24134691e-02, -9.55000892e-03,\n",
       "         4.68055643e-02,  2.10486688e-02, -5.01639396e-02,  3.48422937e-02,\n",
       "        -2.98470538e-02,  4.30000685e-02, -1.60401221e-04,  5.70283309e-02,\n",
       "        -5.31228818e-02,  2.87881680e-02,  1.73925217e-02,  2.24419348e-02,\n",
       "        -8.38797539e-04, -2.07532197e-02,  1.81999374e-02,  1.91896670e-02,\n",
       "         1.82586908e-02, -1.86931584e-02, -1.48310177e-02, -8.81579705e-03,\n",
       "        -1.22402608e-03,  1.95828602e-02, -1.05715860e-02,  4.51841876e-02,\n",
       "        -4.88581359e-02, -1.65503751e-03,  1.01401955e-02,  9.16903242e-02,\n",
       "        -3.91398184e-02,  2.76787346e-03, -4.80520725e-03,  1.23962136e-02,\n",
       "         3.15194540e-02,  8.21884349e-03, -4.14815247e-02, -4.65480909e-02,\n",
       "         2.00030431e-02, -3.11339973e-04,  9.78273153e-03, -2.54516751e-02,\n",
       "        -2.15289555e-02, -3.01612914e-02,  1.33628109e-02,  6.32596295e-03,\n",
       "         2.97018196e-02,  1.17429085e-02,  1.58061888e-02, -2.43661981e-02,\n",
       "        -5.39577426e-03,  4.64843139e-02,  2.04736255e-02, -2.84054410e-02,\n",
       "        -4.75009391e-03,  1.58132184e-02,  5.58798155e-03,  1.89366862e-02,\n",
       "         1.62435404e-03,  4.09499928e-02,  5.65547049e-02,  1.11079123e-02,\n",
       "         3.18778455e-02, -8.59106192e-04, -1.70034561e-02,  6.86533656e-03,\n",
       "        -2.51775282e-03, -4.18890044e-02, -2.28703581e-03,  6.55284198e-03,\n",
       "        -3.31282690e-02,  2.22864673e-02,  1.25508094e-02,  1.64805390e-02,\n",
       "        -3.58959544e-03,  2.53825597e-02, -8.30286294e-02, -4.93071005e-02,\n",
       "         9.52767394e-03,  6.29523536e-03,  4.55326401e-04, -1.57362260e-02,\n",
       "        -3.18717510e-02, -1.44902933e-02,  3.08478065e-02,  2.95590386e-02,\n",
       "         8.98773037e-03, -6.02462701e-03, -3.14014666e-02, -2.81222146e-02,\n",
       "        -4.58985334e-03,  4.31660563e-03,  3.68890986e-02, -3.73522118e-02,\n",
       "         6.35804702e-03, -3.29957157e-03, -3.91102247e-02,  2.45204456e-02,\n",
       "         2.22885592e-06, -2.08909623e-05, -9.77560376e-06,  2.10921680e-05,\n",
       "        -4.10715948e-05, -8.54176506e-06,  3.01904711e-05, -4.33794921e-05,\n",
       "        -1.29780201e-05, -6.27485224e-06, -2.99043859e-06, -7.42666525e-05,\n",
       "        -6.82156606e-05, -1.27373896e-05, -1.88321064e-05, -2.48417164e-05,\n",
       "         1.32219748e-05, -1.01925863e-04, -1.33062531e-06,  5.24509778e-05,\n",
       "         1.47880301e-05,  1.41816654e-05, -2.64089831e-05, -2.96529233e-05,\n",
       "         5.75673112e-05, -3.49732272e-06,  5.06909128e-05, -2.82324290e-05,\n",
       "        -6.80273224e-05,  8.27075855e-05, -2.36917294e-05,  1.28955035e-05,\n",
       "         3.88863409e-05,  3.55704979e-05,  3.56357523e-05, -5.57712847e-05,\n",
       "        -2.79033679e-06, -6.83487669e-05, -2.77289910e-05, -5.36213411e-05,\n",
       "        -4.47452658e-05,  3.15488578e-05,  8.94443838e-06, -1.10897570e-04,\n",
       "         2.87306830e-05,  3.36356898e-05, -3.64654170e-06, -5.59537693e-06,\n",
       "         7.07460458e-06,  1.32413470e-05, -1.15573021e-05, -3.54391614e-06,\n",
       "        -6.84346924e-06,  3.39282778e-05,  9.78601747e-07,  1.38537143e-04,\n",
       "         9.25998938e-06, -2.22607123e-05,  1.38814212e-05, -1.59214396e-05,\n",
       "         1.26600253e-06, -2.58290038e-05, -3.49341281e-05,  1.82429758e-05,\n",
       "        -6.31940784e-05,  4.77790400e-06, -1.12278158e-05, -1.31095236e-04,\n",
       "         3.18251623e-05,  7.43924829e-07,  2.13382373e-06, -2.19747635e-05,\n",
       "        -9.55706309e-06, -1.78720711e-05,  3.21208972e-05,  2.79875094e-05,\n",
       "        -5.70604680e-05,  1.91728323e-05, -1.10022083e-05,  1.38838914e-06,\n",
       "        -2.13968269e-05, -2.13277508e-05, -4.79145638e-05, -4.00086283e-05,\n",
       "         2.65676499e-05,  3.99535675e-05,  2.68005715e-05,  3.65917276e-06,\n",
       "         1.97829650e-05, -9.25193453e-05,  3.80954953e-06,  2.13679486e-05,\n",
       "         1.42190893e-05,  2.92643963e-05, -3.39799662e-05,  1.63696677e-06,\n",
       "         2.00345075e-05, -1.26687984e-04,  1.32891719e-05,  1.50277501e-05,\n",
       "         5.44926588e-05, -1.29602820e-04, -1.00456582e-05,  4.71127496e-05,\n",
       "         3.39028920e-05, -4.47593302e-05, -4.90332750e-05,  2.17586021e-05,\n",
       "        -1.11033623e-05,  4.87841498e-05,  2.11927472e-05, -8.37588232e-07,\n",
       "         2.23532134e-05,  1.18739354e-05, -2.22546023e-05,  2.51655547e-05,\n",
       "         8.08710865e-06, -2.58301661e-05, -3.60993072e-05, -1.94385648e-05,\n",
       "        -1.43097350e-06, -3.49785842e-05, -3.81188984e-05, -8.14640298e-05,\n",
       "        -5.27407246e-06,  2.12289797e-05,  3.70323542e-05,  2.72301877e-05],\n",
       "       dtype=float32)>,\n",
       " <tf.Tensor: shape=(128, 10000), dtype=float32, numpy=\n",
       " array([[-8.6819951e-04, -9.0569345e-04, -4.1429390e-04, ...,\n",
       "          9.1414688e-07,  9.1196216e-07,  9.1353184e-07],\n",
       "        [ 2.0748794e-03,  1.6921910e-03,  2.2599844e-03, ...,\n",
       "         -3.3873937e-06, -3.3874219e-06, -3.3848542e-06],\n",
       "        [ 6.4644730e-04,  1.2618134e-04,  1.0257798e-03, ...,\n",
       "         -1.9922561e-06, -1.9914894e-06, -1.9912347e-06],\n",
       "        ...,\n",
       "        [ 1.1995162e-03, -1.5737240e-04,  1.6052087e-03, ...,\n",
       "         -3.4434045e-06, -3.4413606e-06, -3.4394836e-06],\n",
       "        [ 6.2518060e-04,  1.8671054e-03,  1.2863041e-03, ...,\n",
       "         -2.6661255e-06, -2.6678777e-06, -2.6665148e-06],\n",
       "        [-3.6105849e-03, -2.8986942e-03, -2.1192618e-03, ...,\n",
       "          4.7410695e-06,  4.7358963e-06,  4.7350395e-06]], dtype=float32)>,\n",
       " <tf.Tensor: shape=(10000,), dtype=float32, numpy=\n",
       " array([-0.7979983 , -1.0313318 , -1.0313315 , ...,  0.00200116,\n",
       "         0.00200103,  0.00199998], dtype=float32)>]"
      ]
     },
     "execution_count": 60,
     "metadata": {},
     "output_type": "execute_result"
    }
   ],
   "source": [
    "# Define the gradient clipping threshold\n",
    "grads, _ = tf.clip_by_global_norm(grad_t_list, max_grad_norm)\n",
    "grads"
   ]
  },
  {
   "cell_type": "markdown",
   "metadata": {},
   "source": [
    "<h4> 4.Apply the optimizer to the variables/gradients tuple. </h4>\n"
   ]
  },
  {
   "cell_type": "code",
   "execution_count": 61,
   "metadata": {
    "tags": []
   },
   "outputs": [],
   "source": [
    "# Create the training TensorFlow Operation through our optimizer\n",
    "train_op = optimizer.apply_gradients(zip(grads, tvars))"
   ]
  },
  {
   "cell_type": "markdown",
   "metadata": {},
   "source": [
    "<a id=\"ltsm\"></a>\n",
    "<h2>LSTM</h2>\n"
   ]
  },
  {
   "cell_type": "markdown",
   "metadata": {},
   "source": [
    "We learned how the model is build step by step. Noe, let's then create a Class that represents our model. This class needs a few things:\n",
    "<ul>\n",
    "    <li>We have to create the model in accordance with our defined hyperparameters</li>\n",
    "    <li>We have to create the LSTM cell structure and connect them with our RNN structure</li>\n",
    "    <li>We have to create the word embeddings and point them to the input data</li>\n",
    "    <li>We have to create the input structure for our RNN</li>\n",
    "    <li>We need to create a logistic structure to return the probability of our words</li>\n",
    "    <li>We need to create the loss and cost functions for our optimizer to work, and then create the optimizer</li>\n",
    "    <li>And finally, we need to create a training operation that can be run to actually train our model</li>\n",
    "</ul>\n"
   ]
  },
  {
   "cell_type": "code",
   "execution_count": 62,
   "metadata": {
    "tags": []
   },
   "outputs": [],
   "source": [
    "class PTBModel(object):\n",
    "\n",
    "\n",
    "    def __init__(self):\n",
    "        ######################################\n",
    "        # Setting parameters for ease of use #\n",
    "        ######################################\n",
    "        self.batch_size = batch_size\n",
    "        self.num_steps = num_steps\n",
    "        self.hidden_size_l1 = hidden_size_l1\n",
    "        self.hidden_size_l2 = hidden_size_l2\n",
    "        self.vocab_size = vocab_size\n",
    "        self.embeding_vector_size = embeding_vector_size\n",
    "        # Create a variable for the learning rate\n",
    "        self._lr = 1.0\n",
    "        \n",
    "        ###############################################################################\n",
    "        # Initializing the model using keras Sequential API  #\n",
    "        ###############################################################################\n",
    "        \n",
    "        self._model = tf.keras.models.Sequential()\n",
    "        \n",
    "        ####################################################################\n",
    "        # Creating the word embeddings layer and adding it to the sequence #\n",
    "        ####################################################################\n",
    "        with tf.device(\"/cpu:0\"):\n",
    "            # Create the embeddings for our input data. Size is hidden size.\n",
    "            self._embedding_layer = tf.keras.layers.Embedding(self.vocab_size, self.embeding_vector_size,batch_input_shape=(self.batch_size, self.num_steps),trainable=True,name=\"embedding_vocab\")  #[10000x200]\n",
    "            self._model.add(self._embedding_layer)\n",
    "            \n",
    "\n",
    "        ##########################################################################\n",
    "        # Creating the LSTM cell structure and connect it with the RNN structure #\n",
    "        ##########################################################################\n",
    "        # Create the LSTM Cells. \n",
    "        # This creates only the structure for the LSTM and has to be associated with a RNN unit still.\n",
    "        # The argument  of LSTMCell is size of hidden layer, that is, the number of hidden units of the LSTM (inside A). \n",
    "        # LSTM cell processes one word at a time and computes probabilities of the possible continuations of the sentence.\n",
    "        lstm_cell_l1 = tf.keras.layers.LSTMCell(hidden_size_l1)\n",
    "        lstm_cell_l2 = tf.keras.layers.LSTMCell(hidden_size_l2)\n",
    "        \n",
    "\n",
    "        \n",
    "        # By taking in the LSTM cells as parameters, the StackedRNNCells function junctions the LSTM units to the RNN units.\n",
    "        # RNN cell composed sequentially of stacked simple cells.\n",
    "        stacked_lstm = tf.keras.layers.StackedRNNCells([lstm_cell_l1, lstm_cell_l2])\n",
    "\n",
    "\n",
    "        \n",
    "\n",
    "        ############################################\n",
    "        # Creating the input structure for our RNN #\n",
    "        ############################################\n",
    "        # Input structure is 20x[30x200]\n",
    "        # Considering each word is represended by a 200 dimentional vector, and we have 30 batchs, we create 30 word-vectors of size [30xx2000]\n",
    "        # The input structure is fed from the embeddings, which are filled in by the input data\n",
    "        # Feeding a batch of b sentences to a RNN:\n",
    "        # In step 1,  first word of each of the b sentences (in a batch) is input in parallel.  \n",
    "        # In step 2,  second word of each of the b sentences is input in parallel. \n",
    "        # The parallelism is only for efficiency.  \n",
    "        # Each sentence in a batch is handled in parallel, but the network sees one word of a sentence at a time and does the computations accordingly. \n",
    "        # All the computations involving the words of all sentences in a batch at a given time step are done in parallel. \n",
    "\n",
    "        ########################################################################################################\n",
    "        # Instantiating our RNN model and setting stateful to True to feed forward the state to the next layer #\n",
    "        ########################################################################################################\n",
    "        \n",
    "        self._RNNlayer  =  tf.keras.layers.RNN(stacked_lstm,[batch_size, num_steps],return_state=False,stateful=True,trainable=True)\n",
    "        \n",
    "        # Define the initial state, i.e., the model state for the very first data point\n",
    "        # It initialize the state of the LSTM memory. The memory state of the network is initialized with a vector of zeros and gets updated after reading each word.\n",
    "        self._initial_state = tf.Variable(tf.zeros([batch_size,embeding_vector_size]),trainable=False)\n",
    "        self._RNNlayer.inital_state = self._initial_state\n",
    "    \n",
    "        ############################################\n",
    "        # Adding RNN layer to keras sequential API #\n",
    "        ############################################        \n",
    "        self._model.add(self._RNNlayer)\n",
    "        \n",
    "        #self._model.add(tf.keras.layers.LSTM(hidden_size_l1,return_sequences=True,stateful=True))\n",
    "        #self._model.add(tf.keras.layers.LSTM(hidden_size_l2,return_sequences=True))\n",
    "        \n",
    "        \n",
    "        ####################################################################################################\n",
    "        # Instantiating a Dense layer that connects the output to the vocab_size  and adding layer to model#\n",
    "        ####################################################################################################\n",
    "        self._dense = tf.keras.layers.Dense(self.vocab_size)\n",
    "        self._model.add(self._dense)\n",
    " \n",
    "        \n",
    "        ####################################################################################################\n",
    "        # Adding softmax activation layer and deriving probability to each class and adding layer to model #\n",
    "        ####################################################################################################\n",
    "        self._activation = tf.keras.layers.Activation('softmax')\n",
    "        self._model.add(self._activation)\n",
    "\n",
    "        ##########################################################\n",
    "        # Instantiating the stochastic gradient decent optimizer #\n",
    "        ########################################################## \n",
    "        self._optimizer = tf.keras.optimizers.SGD(lr=self._lr, clipnorm=max_grad_norm)\n",
    "        \n",
    "        \n",
    "        ##############################################################################\n",
    "        # Compiling and summarizing the model stacked using the keras sequential API #\n",
    "        ##############################################################################\n",
    "        self._model.compile(loss=self.crossentropy, optimizer=self._optimizer)\n",
    "        self._model.summary()\n",
    "\n",
    "\n",
    "    def crossentropy(self,y_true, y_pred):\n",
    "        return tf.keras.losses.sparse_categorical_crossentropy(y_true, y_pred)\n",
    "\n",
    "    def train_batch(self,_input_data,_targets):\n",
    "        #################################################\n",
    "        # Creating the Training Operation for our Model #\n",
    "        #################################################\n",
    "        # Create a variable for the learning rate\n",
    "        self._lr = tf.Variable(0.0, trainable=False)\n",
    "        # Get all TensorFlow variables marked as \"trainable\" (i.e. all of them except _lr, which we just created)\n",
    "        tvars = self._model.trainable_variables\n",
    "        # Define the gradient clipping threshold\n",
    "        with tf.GradientTape() as tape:\n",
    "            # Forward pass.\n",
    "            output_words_prob = self._model(_input_data)\n",
    "            # Loss value for this batch.\n",
    "            loss  = self.crossentropy(_targets, output_words_prob)\n",
    "            # average across batch and reduce sum\n",
    "            cost = tf.reduce_sum(loss/ self.batch_size)\n",
    "        # Get gradients of loss wrt the trainable variables.\n",
    "        grad_t_list = tape.gradient(cost, tvars)\n",
    "        # Define the gradient clipping threshold\n",
    "        grads, _ = tf.clip_by_global_norm(grad_t_list, max_grad_norm)\n",
    "        # Create the training TensorFlow Operation through our optimizer\n",
    "        train_op = self._optimizer.apply_gradients(zip(grads, tvars))\n",
    "        return cost\n",
    "        \n",
    "    def test_batch(self,_input_data,_targets):\n",
    "        #################################################\n",
    "        # Creating the Testing Operation for our Model #\n",
    "        #################################################\n",
    "        output_words_prob = self._model(_input_data)\n",
    "        loss  = self.crossentropy(_targets, output_words_prob)\n",
    "        # average across batch and reduce sum\n",
    "        cost = tf.reduce_sum(loss/ self.batch_size)\n",
    "\n",
    "        return cost\n",
    "    @classmethod\n",
    "    def instance(cls) : \n",
    "        return PTBModel()"
   ]
  },
  {
   "cell_type": "markdown",
   "metadata": {},
   "source": [
    "With that, the actual structure of our Recurrent Neural Network with Long Short-Term Memory is finished. What remains for us to do is to actually create the methods to run through time -- that is, the <code>run_epoch</code> method to be run at each epoch and a <code>main</code> script which ties all of this together.\n",
    "\n",
    "What our <code>run_epoch</code> method should do is take our input data and feed it to the relevant operations. This will return at the very least the current result for the cost function.\n"
   ]
  },
  {
   "cell_type": "code",
   "execution_count": 63,
   "metadata": {
    "tags": []
   },
   "outputs": [],
   "source": [
    "\n",
    "########################################################################################################################\n",
    "# run_one_epoch takes as parameters  the model instance, the data to be fed, training or testing mode and verbose info #\n",
    "########################################################################################################################\n",
    "def run_one_epoch(m, data,is_training=True,verbose=False):\n",
    "\n",
    "    #Define the epoch size based on the length of the data, batch size and the number of steps\n",
    "    epoch_size = ((len(data) // m.batch_size) - 1) // m.num_steps\n",
    "    start_time = time.time()\n",
    "    costs = 0.\n",
    "    iters = 0\n",
    "    \n",
    "    m._model.reset_states()\n",
    "    \n",
    "    #For each step and data point\n",
    "    for step, (x, y) in enumerate(ptb_iterator(data, m.batch_size, m.num_steps)):\n",
    "        \n",
    "        #Evaluate and return cost, state by running cost, final_state and the function passed as parameter\n",
    "        #y = tf.keras.utils.to_categorical(y, num_classes=vocab_size)\n",
    "        if is_training : \n",
    "            loss=  m.train_batch(x, y)\n",
    "        else :\n",
    "            loss = m.test_batch(x, y)\n",
    "                                   \n",
    "\n",
    "        #Add returned cost to costs (which keeps track of the total costs for this epoch)\n",
    "        costs += loss\n",
    "        \n",
    "        #Add number of steps to iteration counter\n",
    "        iters += m.num_steps\n",
    "\n",
    "        if verbose and step % (epoch_size // 10) == 10:\n",
    "            print(\"Itr %d of %d, perplexity: %.3f speed: %.0f wps\" % (step , epoch_size, np.exp(costs / iters), iters * m.batch_size / (time.time() - start_time)))\n",
    "        \n",
    "\n",
    "\n",
    "    # Returns the Perplexity rating for us to keep track of how the model is evolving\n",
    "    return np.exp(costs / iters)\n"
   ]
  },
  {
   "cell_type": "markdown",
   "metadata": {},
   "source": [
    "Now, we create the <code>main</code> method to tie everything together. The code here reads the data from the directory, using the <code>reader</code> helper module, and then trains and evaluates the model on both a testing and a validating subset of data.\n"
   ]
  },
  {
   "cell_type": "code",
   "execution_count": 64,
   "metadata": {
    "tags": []
   },
   "outputs": [],
   "source": [
    "# Reads the data and separates it into training data, validation data and testing data\n",
    "raw_data = ptb_raw_data(data_dir)\n",
    "train_data, valid_data, test_data, _, _ = raw_data"
   ]
  },
  {
   "cell_type": "code",
   "execution_count": null,
   "metadata": {},
   "outputs": [],
   "source": [
    "# Instantiates the PTBModel class\n",
    "m=PTBModel.instance()   \n",
    "K = tf.keras.backend \n",
    "for i in range(max_epoch):\n",
    "    # Define the decay for this epoch\n",
    "    lr_decay = decay ** max(i - max_epoch_decay_lr, 0.0)\n",
    "    dcr = learning_rate * lr_decay\n",
    "    m._lr = dcr\n",
    "    K.set_value(m._model.optimizer.learning_rate,m._lr)\n",
    "    print(\"Epoch %d : Learning rate: %.3f\" % (i + 1, m._model.optimizer.learning_rate))\n",
    "    # Run the loop for this epoch in the training mode\n",
    "    train_perplexity = run_one_epoch(m, train_data,is_training=True,verbose=True)\n",
    "    print(\"Epoch %d : Train Perplexity: %.3f\" % (i + 1, train_perplexity))\n",
    "        \n",
    "    # Run the loop for this epoch in the validation mode\n",
    "    valid_perplexity = run_one_epoch(m, valid_data,is_training=False,verbose=False)\n",
    "    print(\"Epoch %d : Valid Perplexity: %.3f\" % (i + 1, valid_perplexity))\n",
    "    \n",
    "# Run the loop in the testing mode to see how effective was our training\n",
    "test_perplexity = run_one_epoch(m, test_data,is_training=False,verbose=False)\n",
    "print(\"Test Perplexity: %.3f\" % test_perplexity)\n",
    "\n"
   ]
  },
  {
   "cell_type": "markdown",
   "metadata": {},
   "source": [
    "As you can see, the model's perplexity rating drops very quickly after a few iterations. As was elaborated before, <b>lower Perplexity means that the model is more certain about its prediction</b>. As such, we can be sure that this model is performing well!\n"
   ]
  },
  {
   "cell_type": "markdown",
   "metadata": {},
   "source": [
    "-------\n"
   ]
  },
  {
   "cell_type": "markdown",
   "metadata": {},
   "source": [
    "This is the end of the <b>Applying Recurrent Neural Networks to Text Processing</b> notebook. Hopefully you now have a better understanding of Recurrent Neural Networks and how to implement one utilizing TensorFlow. Thank you for reading this notebook, and good luck on your studies.\n"
   ]
  },
  {
   "cell_type": "markdown",
   "metadata": {},
   "source": [
    "## Want to learn more?\n",
    "\n",
    "Also, you can use __Watson Studio__ to run these notebooks faster with bigger datasets.__Watson Studio__ is IBM’s leading cloud solution for data scientists, built by data scientists. With Jupyter notebooks, RStudio, Apache Spark and popular libraries pre-packaged in the cloud, __Watson Studio__ enables data scientists to collaborate on their projects without having to install anything. Join the fast-growing community of __Watson Studio__ users today with a free account at [Watson Studio](https://cocl.us/ML0120EN_DSX).This is the end of this lesson. Thank you for reading this notebook, and good luck on your studies.\n"
   ]
  },
  {
   "cell_type": "markdown",
   "metadata": {},
   "source": [
    "### Thanks for completing this lesson!\n",
    "\n",
    "Notebook created by <a href=\"https://br.linkedin.com/in/walter-gomes-de-amorim-junior-624726121?utm_medium=Exinfluencer&utm_source=Exinfluencer&utm_content=000026UJ&utm_term=10006555&utm_id=NA-SkillsNetwork-Channel-SkillsNetworkCoursesIBMDeveloperSkillsNetworkDL0120ENSkillsNetwork954-2023-01-01\">Walter Gomes de Amorim Junior</a>, <a href = \"https://linkedin.com/in/saeedaghabozorgi\"> Saeed Aghabozorgi </a></h4>\n",
    "\n",
    "\n",
    "Updated to TF 2.X by  <a href=\"https://www.linkedin.com/in/samaya-madhavan?utm_medium=Exinfluencer&utm_source=Exinfluencer&utm_content=000026UJ&utm_term=10006555&utm_id=NA-SkillsNetwork-Channel-SkillsNetworkCoursesIBMDeveloperSkillsNetworkDL0120ENSkillsNetwork954-2023-01-01\"> Samaya Madhavan </a>\n"
   ]
  },
  {
   "cell_type": "markdown",
   "metadata": {},
   "source": [
    "<hr>\n",
    "\n",
    "Copyright &copy; 2018 [Cognitive Class](https://cocl.us/DX0108EN_CC). This notebook and its source code are released under the terms of the [MIT License](https://bigdatauniversity.com/mit-license/?utm_medium=Exinfluencer&utm_source=Exinfluencer&utm_content=000026UJ&utm_term=10006555&utm_id=NA-SkillsNetwork-Channel-SkillsNetworkCoursesIBMDeveloperSkillsNetworkDL0120ENSkillsNetwork954-2023-01-01).\n"
   ]
  }
 ],
 "metadata": {
  "kernelspec": {
   "display_name": "Python",
   "language": "python",
   "name": "conda-env-python-py"
  },
  "language_info": {
   "codemirror_mode": {
    "name": "ipython",
    "version": 3
   },
   "file_extension": ".py",
   "mimetype": "text/x-python",
   "name": "python",
   "nbconvert_exporter": "python",
   "pygments_lexer": "ipython3",
   "version": "3.7.12"
  }
 },
 "nbformat": 4,
 "nbformat_minor": 4
}
